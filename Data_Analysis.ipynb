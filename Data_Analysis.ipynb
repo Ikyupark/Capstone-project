{
 "cells": [
  {
   "cell_type": "code",
   "execution_count": 4,
   "id": "c77ab142",
   "metadata": {},
   "outputs": [],
   "source": [
    "import pandas as pd\n",
    "import matplotlib\n",
    "import numpy as np\n",
    "import os\n"
   ]
  },
  {
   "cell_type": "code",
   "execution_count": 5,
   "id": "c9a3676b",
   "metadata": {},
   "outputs": [],
   "source": [
    "df = pd.read_csv('Resources/fake_job_postings_cleaned.csv')"
   ]
  },
  {
   "cell_type": "code",
   "execution_count": 8,
   "id": "ff1669f9",
   "metadata": {},
   "outputs": [
    {
     "data": {
      "text/html": [
       "<div>\n",
       "<style scoped>\n",
       "    .dataframe tbody tr th:only-of-type {\n",
       "        vertical-align: middle;\n",
       "    }\n",
       "\n",
       "    .dataframe tbody tr th {\n",
       "        vertical-align: top;\n",
       "    }\n",
       "\n",
       "    .dataframe thead th {\n",
       "        text-align: right;\n",
       "    }\n",
       "</style>\n",
       "<table border=\"1\" class=\"dataframe\">\n",
       "  <thead>\n",
       "    <tr style=\"text-align: right;\">\n",
       "      <th></th>\n",
       "      <th>Unnamed: 0</th>\n",
       "      <th>title</th>\n",
       "      <th>department</th>\n",
       "      <th>company_profile</th>\n",
       "      <th>description</th>\n",
       "      <th>requirements</th>\n",
       "      <th>benefits</th>\n",
       "      <th>telecommuting</th>\n",
       "      <th>has_company_logo</th>\n",
       "      <th>has_questions</th>\n",
       "      <th>employment_type</th>\n",
       "      <th>required_experience</th>\n",
       "      <th>required_education</th>\n",
       "      <th>industry</th>\n",
       "      <th>function</th>\n",
       "      <th>fraudulent</th>\n",
       "      <th>Country</th>\n",
       "      <th>City</th>\n",
       "      <th>State</th>\n",
       "    </tr>\n",
       "  </thead>\n",
       "  <tbody>\n",
       "    <tr>\n",
       "      <th>0</th>\n",
       "      <td>0</td>\n",
       "      <td>Marketing Intern</td>\n",
       "      <td>Marketing</td>\n",
       "      <td>Were Food52 and weve created a groundbreaking ...</td>\n",
       "      <td>Food52 a fastgrowing James Beard Awardwinning ...</td>\n",
       "      <td>Experience with content management systems a m...</td>\n",
       "      <td>none</td>\n",
       "      <td>0</td>\n",
       "      <td>1</td>\n",
       "      <td>0</td>\n",
       "      <td>Other</td>\n",
       "      <td>Internship</td>\n",
       "      <td>none</td>\n",
       "      <td>none</td>\n",
       "      <td>Marketing</td>\n",
       "      <td>0</td>\n",
       "      <td>US</td>\n",
       "      <td>NY</td>\n",
       "      <td>NewnoneYork</td>\n",
       "    </tr>\n",
       "    <tr>\n",
       "      <th>1</th>\n",
       "      <td>1</td>\n",
       "      <td>Customer Service - Cloud Video Production</td>\n",
       "      <td>Success</td>\n",
       "      <td>90 Seconds the worlds Cloud Video Production S...</td>\n",
       "      <td>OrganisedFocusedVibrantAwesomeDo you have a pa...</td>\n",
       "      <td>What we expect from youYour key responsibility...</td>\n",
       "      <td>What you will get from usThrough being part of...</td>\n",
       "      <td>0</td>\n",
       "      <td>1</td>\n",
       "      <td>0</td>\n",
       "      <td>Full-time</td>\n",
       "      <td>Not Applicable</td>\n",
       "      <td>none</td>\n",
       "      <td>Marketing and Advertising</td>\n",
       "      <td>Customer Service</td>\n",
       "      <td>0</td>\n",
       "      <td>NZ</td>\n",
       "      <td>none</td>\n",
       "      <td>Auckland</td>\n",
       "    </tr>\n",
       "    <tr>\n",
       "      <th>2</th>\n",
       "      <td>2</td>\n",
       "      <td>Commissioning Machinery Assistant (CMA)</td>\n",
       "      <td>none</td>\n",
       "      <td>Valor Services provides Workforce Solutions th...</td>\n",
       "      <td>Our client located in Houston is actively seek...</td>\n",
       "      <td>Implement precommissioning and commissioning p...</td>\n",
       "      <td>none</td>\n",
       "      <td>0</td>\n",
       "      <td>1</td>\n",
       "      <td>0</td>\n",
       "      <td>none</td>\n",
       "      <td>none</td>\n",
       "      <td>none</td>\n",
       "      <td>none</td>\n",
       "      <td>none</td>\n",
       "      <td>0</td>\n",
       "      <td>US</td>\n",
       "      <td>IA</td>\n",
       "      <td>Wever</td>\n",
       "    </tr>\n",
       "    <tr>\n",
       "      <th>3</th>\n",
       "      <td>3</td>\n",
       "      <td>Account Executive - Washington DC</td>\n",
       "      <td>Sales</td>\n",
       "      <td>Our passion for improving quality of life thro...</td>\n",
       "      <td>THE COMPANY ESRIEnvironmental Systems Research...</td>\n",
       "      <td>EDUCATION Bachelors or Masters in GIS business...</td>\n",
       "      <td>Our culture is anything but corporatewe have a...</td>\n",
       "      <td>0</td>\n",
       "      <td>1</td>\n",
       "      <td>0</td>\n",
       "      <td>Full-time</td>\n",
       "      <td>Mid-Senior level</td>\n",
       "      <td>Bachelor's Degree</td>\n",
       "      <td>Computer Software</td>\n",
       "      <td>Sales</td>\n",
       "      <td>0</td>\n",
       "      <td>US</td>\n",
       "      <td>DC</td>\n",
       "      <td>Washington</td>\n",
       "    </tr>\n",
       "    <tr>\n",
       "      <th>4</th>\n",
       "      <td>4</td>\n",
       "      <td>Bill Review Manager</td>\n",
       "      <td>none</td>\n",
       "      <td>SpotSource Solutions LLC is a Global Human Cap...</td>\n",
       "      <td>JOB TITLE Itemization Review ManagerLOCATION F...</td>\n",
       "      <td>QUALIFICATIONSRN license in the State of Texas...</td>\n",
       "      <td>Full Benefits Offered</td>\n",
       "      <td>0</td>\n",
       "      <td>1</td>\n",
       "      <td>1</td>\n",
       "      <td>Full-time</td>\n",
       "      <td>Mid-Senior level</td>\n",
       "      <td>Bachelor's Degree</td>\n",
       "      <td>Hospital &amp; Health Care</td>\n",
       "      <td>Health Care Provider</td>\n",
       "      <td>0</td>\n",
       "      <td>US</td>\n",
       "      <td>FL</td>\n",
       "      <td>FortnoneWorth</td>\n",
       "    </tr>\n",
       "  </tbody>\n",
       "</table>\n",
       "</div>"
      ],
      "text/plain": [
       "   Unnamed: 0                                      title department  \\\n",
       "0           0                           Marketing Intern  Marketing   \n",
       "1           1  Customer Service - Cloud Video Production    Success   \n",
       "2           2    Commissioning Machinery Assistant (CMA)       none   \n",
       "3           3          Account Executive - Washington DC      Sales   \n",
       "4           4                        Bill Review Manager       none   \n",
       "\n",
       "                                     company_profile  \\\n",
       "0  Were Food52 and weve created a groundbreaking ...   \n",
       "1  90 Seconds the worlds Cloud Video Production S...   \n",
       "2  Valor Services provides Workforce Solutions th...   \n",
       "3  Our passion for improving quality of life thro...   \n",
       "4  SpotSource Solutions LLC is a Global Human Cap...   \n",
       "\n",
       "                                         description  \\\n",
       "0  Food52 a fastgrowing James Beard Awardwinning ...   \n",
       "1  OrganisedFocusedVibrantAwesomeDo you have a pa...   \n",
       "2  Our client located in Houston is actively seek...   \n",
       "3  THE COMPANY ESRIEnvironmental Systems Research...   \n",
       "4  JOB TITLE Itemization Review ManagerLOCATION F...   \n",
       "\n",
       "                                        requirements  \\\n",
       "0  Experience with content management systems a m...   \n",
       "1  What we expect from youYour key responsibility...   \n",
       "2  Implement precommissioning and commissioning p...   \n",
       "3  EDUCATION Bachelors or Masters in GIS business...   \n",
       "4  QUALIFICATIONSRN license in the State of Texas...   \n",
       "\n",
       "                                            benefits  telecommuting  \\\n",
       "0                                               none              0   \n",
       "1  What you will get from usThrough being part of...              0   \n",
       "2                                               none              0   \n",
       "3  Our culture is anything but corporatewe have a...              0   \n",
       "4                              Full Benefits Offered              0   \n",
       "\n",
       "   has_company_logo  has_questions employment_type required_experience  \\\n",
       "0                 1              0           Other          Internship   \n",
       "1                 1              0       Full-time      Not Applicable   \n",
       "2                 1              0            none                none   \n",
       "3                 1              0       Full-time    Mid-Senior level   \n",
       "4                 1              1       Full-time    Mid-Senior level   \n",
       "\n",
       "  required_education                   industry              function  \\\n",
       "0               none                       none             Marketing   \n",
       "1               none  Marketing and Advertising      Customer Service   \n",
       "2               none                       none                  none   \n",
       "3  Bachelor's Degree          Computer Software                 Sales   \n",
       "4  Bachelor's Degree     Hospital & Health Care  Health Care Provider   \n",
       "\n",
       "   fraudulent Country  City          State  \n",
       "0           0      US    NY    NewnoneYork  \n",
       "1           0      NZ  none       Auckland  \n",
       "2           0      US    IA          Wever  \n",
       "3           0      US    DC     Washington  \n",
       "4           0      US    FL  FortnoneWorth  "
      ]
     },
     "execution_count": 8,
     "metadata": {},
     "output_type": "execute_result"
    }
   ],
   "source": [
    "df.head()"
   ]
  },
  {
   "cell_type": "code",
   "execution_count": 6,
   "id": "64bd5eb8",
   "metadata": {},
   "outputs": [],
   "source": [
    "df = df.drop(columns=['Unnamed: 0'])"
   ]
  },
  {
   "cell_type": "code",
   "execution_count": 15,
   "id": "55b491ab",
   "metadata": {},
   "outputs": [],
   "source": [
    "df.head()\n",
    "df = df.drop(columns=['title'])"
   ]
  },
  {
   "cell_type": "code",
   "execution_count": 8,
   "id": "cd20a839",
   "metadata": {
    "scrolled": false
   },
   "outputs": [
    {
     "data": {
      "text/plain": [
       "none                                 8105\n",
       "Bachelor's Degree                    5145\n",
       "High School or equivalent            2080\n",
       "Unspecified                          1397\n",
       "Master's Degree                       416\n",
       "Associate Degree                      274\n",
       "Certification                         170\n",
       "Some College Coursework Completed     102\n",
       "Professional                           74\n",
       "Vocational                             49\n",
       "Some High School Coursework            27\n",
       "Doctorate                              26\n",
       "Vocational - HS Diploma                 9\n",
       "Vocational - Degree                     6\n",
       "Name: required_education, dtype: int64"
      ]
     },
     "execution_count": 8,
     "metadata": {},
     "output_type": "execute_result"
    }
   ],
   "source": [
    "df['required_education'].value_counts()"
   ]
  },
  {
   "cell_type": "code",
   "execution_count": null,
   "id": "2fec856d",
   "metadata": {},
   "outputs": [],
   "source": [
    "# drop columns with vocational\n",
    "df['required_education'] = df.drop("
   ]
  },
  {
   "cell_type": "code",
   "execution_count": 13,
   "id": "7fd29d2a",
   "metadata": {},
   "outputs": [
    {
     "data": {
      "text/plain": [
       "none                7050\n",
       "Mid-Senior level    3809\n",
       "Entry level         2697\n",
       "Associate           2297\n",
       "Not Applicable      1116\n",
       "Director             389\n",
       "Internship           381\n",
       "Executive            141\n",
       "Name: required_experience, dtype: int64"
      ]
     },
     "execution_count": 13,
     "metadata": {},
     "output_type": "execute_result"
    }
   ],
   "source": [
    "df['required_experience'].value_counts()"
   ]
  },
  {
   "cell_type": "code",
   "execution_count": null,
   "id": "4d652672",
   "metadata": {},
   "outputs": [],
   "source": [
    "# Required experience summary - 1 bar chart with max, and diff colour represet % that are fraud\n"
   ]
  },
  {
   "cell_type": "code",
   "execution_count": 16,
   "id": "f45e29cd",
   "metadata": {},
   "outputs": [
    {
     "data": {
      "text/plain": [
       "none                      11547\n",
       "Sales                       551\n",
       "Engineering                 487\n",
       "Marketing                   401\n",
       "Operations                  270\n",
       "IT                          225\n",
       "Development                 146\n",
       "Product                     112\n",
       "Information Technology       86\n",
       "Design                       76\n",
       "Technology                   76\n",
       "Customer Service             73\n",
       "Finance                      69\n",
       "HR                           56\n",
       "tech                         55\n",
       "R&D                          54\n",
       "Creative                     48\n",
       "Retail                       45\n",
       "Client Services              45\n",
       "Product Development          36\n",
       "Production                   32\n",
       "Business Development         32\n",
       "Oil and Gas                  32\n",
       "CSD Relay                    31\n",
       "Administrative               30\n",
       "Maintenance                  30\n",
       "Name: department, dtype: int64"
      ]
     },
     "execution_count": 16,
     "metadata": {},
     "output_type": "execute_result"
    }
   ],
   "source": [
    "df_depart = df.groupby(\"department\").filter(lambda x: len(x) >= 30)\n",
    "df_depart['department'].value_counts()"
   ]
  },
  {
   "cell_type": "code",
   "execution_count": null,
   "id": "96c2dead",
   "metadata": {},
   "outputs": [],
   "source": []
  }
 ],
 "metadata": {
  "kernelspec": {
   "display_name": "Python 3 (ipykernel)",
   "language": "python",
   "name": "python3"
  },
  "language_info": {
   "codemirror_mode": {
    "name": "ipython",
    "version": 3
   },
   "file_extension": ".py",
   "mimetype": "text/x-python",
   "name": "python",
   "nbconvert_exporter": "python",
   "pygments_lexer": "ipython3",
   "version": "3.9.12"
  }
 },
 "nbformat": 4,
 "nbformat_minor": 5
}
