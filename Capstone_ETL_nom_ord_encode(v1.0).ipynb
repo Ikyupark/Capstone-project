{
 "cells": [
  {
   "cell_type": "markdown",
   "metadata": {
    "id": "vhf-IXpOeDNk"
   },
   "source": [
    "# CAPSTON PROJECT\n",
    "\n",
    "---\n",
    "\n"
   ]
  },
  {
   "cell_type": "markdown",
   "metadata": {
    "id": "5y6WMSyPeIda"
   },
   "source": [
    "## STEP 1: LOAD and IMPORT LIBRARIES\n",
    "\n",
    "---\n",
    "\n"
   ]
  },
  {
   "cell_type": "code",
   "execution_count": 1,
   "metadata": {
    "executionInfo": {
     "elapsed": 553,
     "status": "ok",
     "timestamp": 1658424546626,
     "user": {
      "displayName": "Anthony Ransom",
      "userId": "12069863966293774441"
     },
     "user_tz": 240
    },
    "id": "Vsujb1rpOpMt"
   },
   "outputs": [],
   "source": [
    "import os\n",
    "import re\n",
    "import string\n",
    "import psycopg2\n",
    "import getpass\n",
    "import pandas as pd\n",
    "import numpy as np"
   ]
  },
  {
   "cell_type": "markdown",
   "metadata": {
    "id": "uTMO57vfeSnQ"
   },
   "source": [
    "## STEP 2: IMPORT DATA\n",
    "\n",
    "---\n",
    "\n"
   ]
  },
  {
   "cell_type": "code",
   "execution_count": 2,
   "metadata": {
    "colab": {
     "base_uri": "https://localhost:8080/",
     "height": 0
    },
    "executionInfo": {
     "elapsed": 2702,
     "status": "ok",
     "timestamp": 1658424565068,
     "user": {
      "displayName": "Anthony Ransom",
      "userId": "12069863966293774441"
     },
     "user_tz": 240
    },
    "id": "1Lp1AFaJexwP",
    "outputId": "33d53105-475f-4c53-e44e-e104ad8dd452",
    "scrolled": true
   },
   "outputs": [
    {
     "name": "stdout",
     "output_type": "stream",
     "text": [
      "DB Password ········\n"
     ]
    },
    {
     "data": {
      "text/html": [
       "<div>\n",
       "<style scoped>\n",
       "    .dataframe tbody tr th:only-of-type {\n",
       "        vertical-align: middle;\n",
       "    }\n",
       "\n",
       "    .dataframe tbody tr th {\n",
       "        vertical-align: top;\n",
       "    }\n",
       "\n",
       "    .dataframe thead th {\n",
       "        text-align: right;\n",
       "    }\n",
       "</style>\n",
       "<table border=\"1\" class=\"dataframe\">\n",
       "  <thead>\n",
       "    <tr style=\"text-align: right;\">\n",
       "      <th></th>\n",
       "      <th>job_id</th>\n",
       "      <th>title</th>\n",
       "      <th>location</th>\n",
       "      <th>department</th>\n",
       "      <th>salary_range</th>\n",
       "      <th>company_profile</th>\n",
       "      <th>description</th>\n",
       "      <th>requirements</th>\n",
       "      <th>benefits</th>\n",
       "      <th>telecommuting</th>\n",
       "      <th>has_company_logo</th>\n",
       "      <th>has_questions</th>\n",
       "      <th>employment_type</th>\n",
       "      <th>required_experience</th>\n",
       "      <th>required_education</th>\n",
       "      <th>industry</th>\n",
       "      <th>function</th>\n",
       "      <th>fraudulent</th>\n",
       "    </tr>\n",
       "  </thead>\n",
       "  <tbody>\n",
       "    <tr>\n",
       "      <th>0</th>\n",
       "      <td>1</td>\n",
       "      <td>Marketing Intern</td>\n",
       "      <td>US; NY; New York</td>\n",
       "      <td>Marketing</td>\n",
       "      <td>None</td>\n",
       "      <td>We're Food52 and we've created a groundbreakin...</td>\n",
       "      <td>Food52 a fast-growing James Beard Award-winnin...</td>\n",
       "      <td>Experience with content management systems a m...</td>\n",
       "      <td>None</td>\n",
       "      <td>0</td>\n",
       "      <td>1</td>\n",
       "      <td>0</td>\n",
       "      <td>Other</td>\n",
       "      <td>Internship</td>\n",
       "      <td>None</td>\n",
       "      <td>None</td>\n",
       "      <td>Marketing</td>\n",
       "      <td>0</td>\n",
       "    </tr>\n",
       "  </tbody>\n",
       "</table>\n",
       "</div>"
      ],
      "text/plain": [
       "   job_id             title          location department salary_range  \\\n",
       "0       1  Marketing Intern  US; NY; New York  Marketing         None   \n",
       "\n",
       "                                     company_profile  \\\n",
       "0  We're Food52 and we've created a groundbreakin...   \n",
       "\n",
       "                                         description  \\\n",
       "0  Food52 a fast-growing James Beard Award-winnin...   \n",
       "\n",
       "                                        requirements benefits  telecommuting  \\\n",
       "0  Experience with content management systems a m...     None              0   \n",
       "\n",
       "   has_company_logo  has_questions employment_type required_experience  \\\n",
       "0                 1              0           Other          Internship   \n",
       "\n",
       "  required_education industry   function  fraudulent  \n",
       "0               None     None  Marketing           0  "
      ]
     },
     "execution_count": 2,
     "metadata": {},
     "output_type": "execute_result"
    }
   ],
   "source": [
    "# Request user for password to access database\n",
    "db_password = getpass.getpass(prompt='DB Password ')\n",
    "\n",
    "# Create SQL engine with connection parameters to connect to AWS RDS Postgres instance\n",
    "engine = psycopg2.connect(\n",
    "    database=\"Capstone_Project_Group_9\",\n",
    "    user=\"postgres\",\n",
    "    password=db_password,\n",
    "    host=\"capstone-project-group-9.c4857qrbkptn.us-east-2.rds.amazonaws.com\",\n",
    "    port='5432'\n",
    ")\n",
    "\n",
    "# Show sample of the imported data\n",
    "dataset_df = pd.read_sql('SELECT * FROM fake_job_postings', engine)\n",
    "dataset_df.head(1)"
   ]
  },
  {
   "cell_type": "code",
   "execution_count": 3,
   "metadata": {
    "executionInfo": {
     "elapsed": 8,
     "status": "ok",
     "timestamp": 1658424565069,
     "user": {
      "displayName": "Anthony Ransom",
      "userId": "12069863966293774441"
     },
     "user_tz": 240
    },
    "id": "CQpTv1VKpRH7"
   },
   "outputs": [],
   "source": [
    "# Drop columns with too many null values or where all values are unique\n",
    "dataset_df = dataset_df.drop(columns=['job_id','salary_range','title'])"
   ]
  },
  {
   "cell_type": "code",
   "execution_count": 4,
   "metadata": {
    "colab": {
     "base_uri": "https://localhost:8080/"
    },
    "executionInfo": {
     "elapsed": 131,
     "status": "ok",
     "timestamp": 1658424565193,
     "user": {
      "displayName": "Anthony Ransom",
      "userId": "12069863966293774441"
     },
     "user_tz": 240
    },
    "id": "RoZvrtHdJAiH",
    "outputId": "920880e2-2def-4e65-d6dd-8191841ea1fa"
   },
   "outputs": [
    {
     "data": {
      "text/plain": [
       "location                 346\n",
       "department             11547\n",
       "company_profile         3308\n",
       "description                0\n",
       "requirements            2694\n",
       "benefits                7206\n",
       "telecommuting              0\n",
       "has_company_logo           0\n",
       "has_questions              0\n",
       "employment_type         3471\n",
       "required_experience     7050\n",
       "required_education      8105\n",
       "industry                4903\n",
       "function                6455\n",
       "fraudulent                 0\n",
       "dtype: int64"
      ]
     },
     "execution_count": 4,
     "metadata": {},
     "output_type": "execute_result"
    }
   ],
   "source": [
    "# Display number of null values for each column\n",
    "dataset_df.isnull().sum()"
   ]
  },
  {
   "cell_type": "code",
   "execution_count": 5,
   "metadata": {
    "colab": {
     "base_uri": "https://localhost:8080/",
     "height": 0
    },
    "executionInfo": {
     "elapsed": 276,
     "status": "ok",
     "timestamp": 1658424565466,
     "user": {
      "displayName": "Anthony Ransom",
      "userId": "12069863966293774441"
     },
     "user_tz": 240
    },
    "id": "JA4XY6Puhzto",
    "outputId": "43b6af71-9df0-4cb5-de87-b7305f40789f",
    "scrolled": false
   },
   "outputs": [
    {
     "data": {
      "text/html": [
       "<div>\n",
       "<style scoped>\n",
       "    .dataframe tbody tr th:only-of-type {\n",
       "        vertical-align: middle;\n",
       "    }\n",
       "\n",
       "    .dataframe tbody tr th {\n",
       "        vertical-align: top;\n",
       "    }\n",
       "\n",
       "    .dataframe thead th {\n",
       "        text-align: right;\n",
       "    }\n",
       "</style>\n",
       "<table border=\"1\" class=\"dataframe\">\n",
       "  <thead>\n",
       "    <tr style=\"text-align: right;\">\n",
       "      <th></th>\n",
       "      <th>department</th>\n",
       "      <th>company_profile</th>\n",
       "      <th>description</th>\n",
       "      <th>requirements</th>\n",
       "      <th>benefits</th>\n",
       "      <th>telecommuting</th>\n",
       "      <th>has_company_logo</th>\n",
       "      <th>has_questions</th>\n",
       "      <th>employment_type</th>\n",
       "      <th>required_experience</th>\n",
       "      <th>required_education</th>\n",
       "      <th>industry</th>\n",
       "      <th>function</th>\n",
       "      <th>fraudulent</th>\n",
       "      <th>Country</th>\n",
       "    </tr>\n",
       "  </thead>\n",
       "  <tbody>\n",
       "    <tr>\n",
       "      <th>0</th>\n",
       "      <td>Marketing</td>\n",
       "      <td>We're Food52 and we've created a groundbreakin...</td>\n",
       "      <td>Food52 a fast-growing James Beard Award-winnin...</td>\n",
       "      <td>Experience with content management systems a m...</td>\n",
       "      <td>None</td>\n",
       "      <td>0</td>\n",
       "      <td>1</td>\n",
       "      <td>0</td>\n",
       "      <td>Other</td>\n",
       "      <td>Internship</td>\n",
       "      <td>None</td>\n",
       "      <td>None</td>\n",
       "      <td>Marketing</td>\n",
       "      <td>0</td>\n",
       "      <td>US</td>\n",
       "    </tr>\n",
       "  </tbody>\n",
       "</table>\n",
       "</div>"
      ],
      "text/plain": [
       "  department                                    company_profile  \\\n",
       "0  Marketing  We're Food52 and we've created a groundbreakin...   \n",
       "\n",
       "                                         description  \\\n",
       "0  Food52 a fast-growing James Beard Award-winnin...   \n",
       "\n",
       "                                        requirements benefits  telecommuting  \\\n",
       "0  Experience with content management systems a m...     None              0   \n",
       "\n",
       "   has_company_logo  has_questions employment_type required_experience  \\\n",
       "0                 1              0           Other          Internship   \n",
       "\n",
       "  required_education industry   function  fraudulent Country  \n",
       "0               None     None  Marketing           0      US  "
      ]
     },
     "execution_count": 5,
     "metadata": {},
     "output_type": "execute_result"
    }
   ],
   "source": [
    "# Split the location columns by the seperator and only keep the country\n",
    "# Only country is kept due to misspelled states and cities and some rows have multiple states and cities\n",
    "# that do not have a seperator\n",
    "dataset_df['Country'] = dataset_df['location'].str.split(';').str[0]\n",
    "dataset_df = dataset_df.drop(columns=['location'])\n",
    "dataset_df.head(1)"
   ]
  },
  {
   "cell_type": "code",
   "execution_count": 6,
   "metadata": {
    "scrolled": true
   },
   "outputs": [
    {
     "data": {
      "text/html": [
       "<div>\n",
       "<style scoped>\n",
       "    .dataframe tbody tr th:only-of-type {\n",
       "        vertical-align: middle;\n",
       "    }\n",
       "\n",
       "    .dataframe tbody tr th {\n",
       "        vertical-align: top;\n",
       "    }\n",
       "\n",
       "    .dataframe thead th {\n",
       "        text-align: right;\n",
       "    }\n",
       "</style>\n",
       "<table border=\"1\" class=\"dataframe\">\n",
       "  <thead>\n",
       "    <tr style=\"text-align: right;\">\n",
       "      <th></th>\n",
       "      <th>department</th>\n",
       "      <th>company_profile</th>\n",
       "      <th>description</th>\n",
       "      <th>requirements</th>\n",
       "      <th>benefits</th>\n",
       "      <th>telecommuting</th>\n",
       "      <th>has_company_logo</th>\n",
       "      <th>has_questions</th>\n",
       "      <th>employment_type</th>\n",
       "      <th>required_experience</th>\n",
       "      <th>required_education</th>\n",
       "      <th>industry</th>\n",
       "      <th>function</th>\n",
       "      <th>fraudulent</th>\n",
       "      <th>Country</th>\n",
       "    </tr>\n",
       "  </thead>\n",
       "  <tbody>\n",
       "    <tr>\n",
       "      <th>0</th>\n",
       "      <td>Marketing</td>\n",
       "      <td>We're Food52 and we've created a groundbreakin...</td>\n",
       "      <td>Food52 a fast-growing James Beard Award-winnin...</td>\n",
       "      <td>Experience with content management systems a m...</td>\n",
       "      <td>not specified</td>\n",
       "      <td>0</td>\n",
       "      <td>1</td>\n",
       "      <td>0</td>\n",
       "      <td>Other</td>\n",
       "      <td>Internship</td>\n",
       "      <td>not specified</td>\n",
       "      <td>not specified</td>\n",
       "      <td>Marketing</td>\n",
       "      <td>0</td>\n",
       "      <td>US</td>\n",
       "    </tr>\n",
       "  </tbody>\n",
       "</table>\n",
       "</div>"
      ],
      "text/plain": [
       "  department                                    company_profile  \\\n",
       "0  Marketing  We're Food52 and we've created a groundbreakin...   \n",
       "\n",
       "                                         description  \\\n",
       "0  Food52 a fast-growing James Beard Award-winnin...   \n",
       "\n",
       "                                        requirements       benefits  \\\n",
       "0  Experience with content management systems a m...  not specified   \n",
       "\n",
       "   telecommuting  has_company_logo  has_questions employment_type  \\\n",
       "0              0                 1              0           Other   \n",
       "\n",
       "  required_experience required_education       industry   function  \\\n",
       "0          Internship      not specified  not specified  Marketing   \n",
       "\n",
       "   fraudulent Country  \n",
       "0           0      US  "
      ]
     },
     "execution_count": 6,
     "metadata": {},
     "output_type": "execute_result"
    }
   ],
   "source": [
    "# Replace null values with \"not specified\" string\n",
    "dataset_df = dataset_df.fillna('not specified')\n",
    "dataset_df.head(1)"
   ]
  },
  {
   "cell_type": "code",
   "execution_count": 7,
   "metadata": {
    "scrolled": true
   },
   "outputs": [
    {
     "data": {
      "text/html": [
       "<div>\n",
       "<style scoped>\n",
       "    .dataframe tbody tr th:only-of-type {\n",
       "        vertical-align: middle;\n",
       "    }\n",
       "\n",
       "    .dataframe tbody tr th {\n",
       "        vertical-align: top;\n",
       "    }\n",
       "\n",
       "    .dataframe thead th {\n",
       "        text-align: right;\n",
       "    }\n",
       "</style>\n",
       "<table border=\"1\" class=\"dataframe\">\n",
       "  <thead>\n",
       "    <tr style=\"text-align: right;\">\n",
       "      <th></th>\n",
       "      <th>department</th>\n",
       "      <th>company_profile</th>\n",
       "      <th>description</th>\n",
       "      <th>requirements</th>\n",
       "      <th>benefits</th>\n",
       "      <th>telecommuting</th>\n",
       "      <th>has_company_logo</th>\n",
       "      <th>has_questions</th>\n",
       "      <th>employment_type</th>\n",
       "      <th>required_experience</th>\n",
       "      <th>required_education</th>\n",
       "      <th>industry</th>\n",
       "      <th>function</th>\n",
       "      <th>fraudulent</th>\n",
       "      <th>Country</th>\n",
       "    </tr>\n",
       "  </thead>\n",
       "  <tbody>\n",
       "    <tr>\n",
       "      <th>0</th>\n",
       "      <td>Marketing</td>\n",
       "      <td>Were Food52 and weve created a groundbreaking ...</td>\n",
       "      <td>Food52 a fastgrowing James Beard Awardwinning ...</td>\n",
       "      <td>Experience with content management systems a m...</td>\n",
       "      <td>not specified</td>\n",
       "      <td>0</td>\n",
       "      <td>1</td>\n",
       "      <td>0</td>\n",
       "      <td>Other</td>\n",
       "      <td>Internship</td>\n",
       "      <td>not specified</td>\n",
       "      <td>not specified</td>\n",
       "      <td>Marketing</td>\n",
       "      <td>0</td>\n",
       "      <td>US</td>\n",
       "    </tr>\n",
       "  </tbody>\n",
       "</table>\n",
       "</div>"
      ],
      "text/plain": [
       "  department                                    company_profile  \\\n",
       "0  Marketing  Were Food52 and weve created a groundbreaking ...   \n",
       "\n",
       "                                         description  \\\n",
       "0  Food52 a fastgrowing James Beard Awardwinning ...   \n",
       "\n",
       "                                        requirements       benefits  \\\n",
       "0  Experience with content management systems a m...  not specified   \n",
       "\n",
       "   telecommuting  has_company_logo  has_questions employment_type  \\\n",
       "0              0                 1              0           Other   \n",
       "\n",
       "  required_experience required_education       industry   function  \\\n",
       "0          Internship      not specified  not specified  Marketing   \n",
       "\n",
       "   fraudulent Country  \n",
       "0           0      US  "
      ]
     },
     "execution_count": 7,
     "metadata": {},
     "output_type": "execute_result"
    }
   ],
   "source": [
    "# Define columns that need to be cleaned\n",
    "clean_cols = [\"company_profile\", \"description\", \"requirements\", \"benefits\"]\n",
    "# Loop through clean_cols and remove punctuation and characters\n",
    "for col in clean_cols:\n",
    "    dataset_df[col] = dataset_df[col].replace(r'[^a-zA-Z0-9\\s]', '',regex=True)\n",
    "    dataset_df[col] = dataset_df[col].replace(r'\\s{2,}', '',regex=True)\n",
    "\n",
    "dataset_df.head(1)"
   ]
  },
  {
   "cell_type": "code",
   "execution_count": 8,
   "metadata": {
    "colab": {
     "base_uri": "https://localhost:8080/"
    },
    "executionInfo": {
     "elapsed": 330,
     "status": "ok",
     "timestamp": 1658424571965,
     "user": {
      "displayName": "Anthony Ransom",
      "userId": "12069863966293774441"
     },
     "user_tz": 240
    },
    "id": "OI7UBsFvJTs3",
    "outputId": "df4845b8-8797-43f0-d46e-979064e9b636"
   },
   "outputs": [
    {
     "data": {
      "text/plain": [
       "department             0\n",
       "company_profile        0\n",
       "description            0\n",
       "requirements           0\n",
       "benefits               0\n",
       "telecommuting          0\n",
       "has_company_logo       0\n",
       "has_questions          0\n",
       "employment_type        0\n",
       "required_experience    0\n",
       "required_education     0\n",
       "industry               0\n",
       "function               0\n",
       "fraudulent             0\n",
       "Country                0\n",
       "dtype: int64"
      ]
     },
     "execution_count": 8,
     "metadata": {},
     "output_type": "execute_result"
    }
   ],
   "source": [
    "# check the number of null values in columns\n",
    "dataset_df.isnull().sum()"
   ]
  },
  {
   "cell_type": "code",
   "execution_count": 9,
   "metadata": {
    "executionInfo": {
     "elapsed": 110,
     "status": "ok",
     "timestamp": 1658424572074,
     "user": {
      "displayName": "Anthony Ransom",
      "userId": "12069863966293774441"
     },
     "user_tz": 240
    },
    "id": "ULuM7lRdykoI"
   },
   "outputs": [],
   "source": [
    "# Remove any whitespace from the country, city and state columns\n",
    "### code is kept for future compatibility ###\n",
    "#dataset_df['Country'] = dataset_df['Country'].map(lambda x: x.strip())\n",
    "\n",
    "#dataset_df.head()"
   ]
  },
  {
   "cell_type": "code",
   "execution_count": 10,
   "metadata": {
    "executionInfo": {
     "elapsed": 665,
     "status": "ok",
     "timestamp": 1658424572737,
     "user": {
      "displayName": "Anthony Ransom",
      "userId": "12069863966293774441"
     },
     "user_tz": 240
    },
    "id": "sTEwliKov7mr"
   },
   "outputs": [],
   "source": [
    "# make all text lower case\n",
    "string_cols = list(dataset_df.select_dtypes(include='object'))\n",
    "for col in string_cols:\n",
    "    dataset_df[col] = dataset_df[col].str.lower()\n",
    "\n",
    "#dataset_df.head()"
   ]
  },
  {
   "cell_type": "code",
   "execution_count": 11,
   "metadata": {
    "colab": {
     "base_uri": "https://localhost:8080/"
    },
    "executionInfo": {
     "elapsed": 527,
     "status": "ok",
     "timestamp": 1658424573333,
     "user": {
      "displayName": "Anthony Ransom",
      "userId": "12069863966293774441"
     },
     "user_tz": 240
    },
    "id": "VkGOsdpad2AL",
    "outputId": "05b7e189-0e11-4ce6-9fcf-5b37a0b01baa"
   },
   "outputs": [
    {
     "data": {
      "text/plain": [
       "department              1284\n",
       "company_profile         1710\n",
       "description            14727\n",
       "requirements           11911\n",
       "benefits                6022\n",
       "telecommuting              2\n",
       "has_company_logo           2\n",
       "has_questions              2\n",
       "employment_type            6\n",
       "required_experience        8\n",
       "required_education        14\n",
       "industry                 132\n",
       "function                  38\n",
       "fraudulent                 2\n",
       "Country                   91\n",
       "dtype: int64"
      ]
     },
     "execution_count": 11,
     "metadata": {},
     "output_type": "execute_result"
    }
   ],
   "source": [
    "# Get number of unique values in each column\n",
    "dataset_df.nunique()"
   ]
  },
  {
   "cell_type": "markdown",
   "metadata": {
    "id": "0_kkMfW5fqpx"
   },
   "source": [
    "## Step 3: Feature encoding\n",
    "\n",
    "---\n",
    "\n"
   ]
  },
  {
   "cell_type": "code",
   "execution_count": 12,
   "metadata": {},
   "outputs": [],
   "source": [
    "# Import libraries required for encoding\n",
    "from category_encoders import BinaryEncoder\n",
    "from sklearn.preprocessing import LabelEncoder\n",
    "from category_encoders import TargetEncoder"
   ]
  },
  {
   "cell_type": "code",
   "execution_count": 13,
   "metadata": {},
   "outputs": [],
   "source": [
    "# Define Ordinal and Nominal columns\n",
    "nom_cols = ['department', 'industry', 'function', 'Country']\n",
    "ord_cols = ['employment_type','required_experience','required_education']"
   ]
  },
  {
   "cell_type": "code",
   "execution_count": 14,
   "metadata": {},
   "outputs": [
    {
     "name": "stderr",
     "output_type": "stream",
     "text": [
      "C:\\Users\\Khashayar\\anaconda3\\envs\\mlenv\\lib\\site-packages\\category_encoders\\target_encoder.py:94: FutureWarning: Default parameter min_samples_leaf will change in version 2.6.See https://github.com/scikit-learn-contrib/category_encoders/issues/327\n",
      "  category=FutureWarning)\n",
      "C:\\Users\\Khashayar\\anaconda3\\envs\\mlenv\\lib\\site-packages\\category_encoders\\target_encoder.py:99: FutureWarning: Default parameter smoothing will change in version 2.6.See https://github.com/scikit-learn-contrib/category_encoders/issues/327\n",
      "  category=FutureWarning)\n"
     ]
    },
    {
     "data": {
      "text/html": [
       "<div>\n",
       "<style scoped>\n",
       "    .dataframe tbody tr th:only-of-type {\n",
       "        vertical-align: middle;\n",
       "    }\n",
       "\n",
       "    .dataframe tbody tr th {\n",
       "        vertical-align: top;\n",
       "    }\n",
       "\n",
       "    .dataframe thead th {\n",
       "        text-align: right;\n",
       "    }\n",
       "</style>\n",
       "<table border=\"1\" class=\"dataframe\">\n",
       "  <thead>\n",
       "    <tr style=\"text-align: right;\">\n",
       "      <th></th>\n",
       "      <th>department</th>\n",
       "      <th>company_profile</th>\n",
       "      <th>description</th>\n",
       "      <th>requirements</th>\n",
       "      <th>benefits</th>\n",
       "      <th>telecommuting</th>\n",
       "      <th>has_company_logo</th>\n",
       "      <th>has_questions</th>\n",
       "      <th>employment_type</th>\n",
       "      <th>required_experience</th>\n",
       "      <th>required_education</th>\n",
       "      <th>industry</th>\n",
       "      <th>function</th>\n",
       "      <th>fraudulent</th>\n",
       "      <th>Country</th>\n",
       "    </tr>\n",
       "  </thead>\n",
       "  <tbody>\n",
       "    <tr>\n",
       "      <th>0</th>\n",
       "      <td>0.004963</td>\n",
       "      <td>were food52 and weve created a groundbreaking ...</td>\n",
       "      <td>food52 a fastgrowing james beard awardwinning ...</td>\n",
       "      <td>experience with content management systems a m...</td>\n",
       "      <td>not specified</td>\n",
       "      <td>0</td>\n",
       "      <td>1</td>\n",
       "      <td>0</td>\n",
       "      <td>other</td>\n",
       "      <td>internship</td>\n",
       "      <td>not specified</td>\n",
       "      <td>0.056088</td>\n",
       "      <td>0.012048</td>\n",
       "      <td>0</td>\n",
       "      <td>0.068506</td>\n",
       "    </tr>\n",
       "    <tr>\n",
       "      <th>1</th>\n",
       "      <td>0.000871</td>\n",
       "      <td>90 seconds the worlds cloud video production s...</td>\n",
       "      <td>organisedfocusedvibrantawesomedo you have a pa...</td>\n",
       "      <td>what we expect from youyour key responsibility...</td>\n",
       "      <td>what you will get from usthrough being part of...</td>\n",
       "      <td>0</td>\n",
       "      <td>1</td>\n",
       "      <td>0</td>\n",
       "      <td>full-time</td>\n",
       "      <td>not applicable</td>\n",
       "      <td>not specified</td>\n",
       "      <td>0.054348</td>\n",
       "      <td>0.054516</td>\n",
       "      <td>0</td>\n",
       "      <td>0.000000</td>\n",
       "    </tr>\n",
       "  </tbody>\n",
       "</table>\n",
       "</div>"
      ],
      "text/plain": [
       "   department                                    company_profile  \\\n",
       "0    0.004963  were food52 and weve created a groundbreaking ...   \n",
       "1    0.000871  90 seconds the worlds cloud video production s...   \n",
       "\n",
       "                                         description  \\\n",
       "0  food52 a fastgrowing james beard awardwinning ...   \n",
       "1  organisedfocusedvibrantawesomedo you have a pa...   \n",
       "\n",
       "                                        requirements  \\\n",
       "0  experience with content management systems a m...   \n",
       "1  what we expect from youyour key responsibility...   \n",
       "\n",
       "                                            benefits  telecommuting  \\\n",
       "0                                      not specified              0   \n",
       "1  what you will get from usthrough being part of...              0   \n",
       "\n",
       "   has_company_logo  has_questions employment_type required_experience  \\\n",
       "0                 1              0           other          internship   \n",
       "1                 1              0       full-time      not applicable   \n",
       "\n",
       "  required_education  industry  function  fraudulent   Country  \n",
       "0      not specified  0.056088  0.012048           0  0.068506  \n",
       "1      not specified  0.054348  0.054516           0  0.000000  "
      ]
     },
     "execution_count": 14,
     "metadata": {},
     "output_type": "execute_result"
    }
   ],
   "source": [
    "# Run TargetEncoder on nominal columns\n",
    "Targetenc = TargetEncoder()\n",
    "for col in nom_cols:\n",
    "    values = Targetenc.fit_transform(X = dataset_df[col], y = dataset_df['fraudulent'])\n",
    "    dataset_df[col] = values[col]\n",
    "\n",
    "dataset_df.head(2)"
   ]
  },
  {
   "cell_type": "code",
   "execution_count": 15,
   "metadata": {},
   "outputs": [],
   "source": [
    "# Run labelEncoder on Ordinal columns\n",
    "le = LabelEncoder()\n",
    "for col in ord_cols:\n",
    "    dataset_df[col] = le.fit_transform(dataset_df[col])"
   ]
  },
  {
   "cell_type": "code",
   "execution_count": 16,
   "metadata": {},
   "outputs": [],
   "source": [
    "# rename all columns to have data_ prefix for easy feature identification in machine learning model\n",
    "for col in dataset_df.columns:\n",
    "    dataset_df.rename(columns = {col:f'data_{col}'}, inplace = True)\n",
    "    \n",
    "# update clean_cols to have new column names    \n",
    "clean_cols = [\"data_company_profile\", \"data_description\", \"data_requirements\", \"data_benefits\"]"
   ]
  },
  {
   "cell_type": "code",
   "execution_count": 17,
   "metadata": {},
   "outputs": [
    {
     "data": {
      "text/html": [
       "<div>\n",
       "<style scoped>\n",
       "    .dataframe tbody tr th:only-of-type {\n",
       "        vertical-align: middle;\n",
       "    }\n",
       "\n",
       "    .dataframe tbody tr th {\n",
       "        vertical-align: top;\n",
       "    }\n",
       "\n",
       "    .dataframe thead th {\n",
       "        text-align: right;\n",
       "    }\n",
       "</style>\n",
       "<table border=\"1\" class=\"dataframe\">\n",
       "  <thead>\n",
       "    <tr style=\"text-align: right;\">\n",
       "      <th></th>\n",
       "      <th>data_department</th>\n",
       "      <th>data_company_profile</th>\n",
       "      <th>data_description</th>\n",
       "      <th>data_requirements</th>\n",
       "      <th>data_benefits</th>\n",
       "      <th>data_telecommuting</th>\n",
       "      <th>data_has_company_logo</th>\n",
       "      <th>data_has_questions</th>\n",
       "      <th>data_employment_type</th>\n",
       "      <th>data_required_experience</th>\n",
       "      <th>data_required_education</th>\n",
       "      <th>data_industry</th>\n",
       "      <th>data_function</th>\n",
       "      <th>data_fraudulent</th>\n",
       "      <th>data_Country</th>\n",
       "    </tr>\n",
       "  </thead>\n",
       "  <tbody>\n",
       "    <tr>\n",
       "      <th>0</th>\n",
       "      <td>0.004963</td>\n",
       "      <td>were food52 and weve created a groundbreaking ...</td>\n",
       "      <td>food52 a fastgrowing james beard awardwinning ...</td>\n",
       "      <td>experience with content management systems a m...</td>\n",
       "      <td>not specified</td>\n",
       "      <td>0</td>\n",
       "      <td>1</td>\n",
       "      <td>0</td>\n",
       "      <td>3</td>\n",
       "      <td>4</td>\n",
       "      <td>6</td>\n",
       "      <td>0.056088</td>\n",
       "      <td>0.012048</td>\n",
       "      <td>0</td>\n",
       "      <td>0.068506</td>\n",
       "    </tr>\n",
       "  </tbody>\n",
       "</table>\n",
       "</div>"
      ],
      "text/plain": [
       "   data_department                               data_company_profile  \\\n",
       "0         0.004963  were food52 and weve created a groundbreaking ...   \n",
       "\n",
       "                                    data_description  \\\n",
       "0  food52 a fastgrowing james beard awardwinning ...   \n",
       "\n",
       "                                   data_requirements  data_benefits  \\\n",
       "0  experience with content management systems a m...  not specified   \n",
       "\n",
       "   data_telecommuting  data_has_company_logo  data_has_questions  \\\n",
       "0                   0                      1                   0   \n",
       "\n",
       "   data_employment_type  data_required_experience  data_required_education  \\\n",
       "0                     3                         4                        6   \n",
       "\n",
       "   data_industry  data_function  data_fraudulent  data_Country  \n",
       "0       0.056088       0.012048                0      0.068506  "
      ]
     },
     "execution_count": 17,
     "metadata": {},
     "output_type": "execute_result"
    }
   ],
   "source": [
    "dataset_df.head(1)"
   ]
  },
  {
   "cell_type": "code",
   "execution_count": 18,
   "metadata": {
    "colab": {
     "base_uri": "https://localhost:8080/"
    },
    "executionInfo": {
     "elapsed": 5,
     "status": "ok",
     "timestamp": 1658424576699,
     "user": {
      "displayName": "Anthony Ransom",
      "userId": "12069863966293774441"
     },
     "user_tz": 240
    },
    "id": "RB0bceDRxgum",
    "outputId": "ebaac6cf-6bf5-4c8b-f8c0-4b4eb5c71908"
   },
   "outputs": [
    {
     "data": {
      "text/plain": [
       "data_department             float64\n",
       "data_company_profile         object\n",
       "data_description             object\n",
       "data_requirements            object\n",
       "data_benefits                object\n",
       "data_telecommuting            int64\n",
       "data_has_company_logo         int64\n",
       "data_has_questions            int64\n",
       "data_employment_type          int32\n",
       "data_required_experience      int32\n",
       "data_required_education       int32\n",
       "data_industry               float64\n",
       "data_function               float64\n",
       "data_fraudulent               int64\n",
       "data_Country                float64\n",
       "dtype: object"
      ]
     },
     "execution_count": 18,
     "metadata": {},
     "output_type": "execute_result"
    }
   ],
   "source": [
    "dataset_df.dtypes"
   ]
  },
  {
   "cell_type": "markdown",
   "metadata": {
    "id": "u99nOSSMi5Jz"
   },
   "source": [
    "## Step 4: Tockenizing\n",
    "\n",
    "---\n",
    "\n"
   ]
  },
  {
   "cell_type": "markdown",
   "metadata": {
    "id": "y2dmfGiVvhZL"
   },
   "source": [
    "### NLTK "
   ]
  },
  {
   "cell_type": "code",
   "execution_count": 19,
   "metadata": {
    "colab": {
     "base_uri": "https://localhost:8080/"
    },
    "executionInfo": {
     "elapsed": 3714,
     "status": "ok",
     "timestamp": 1658424580496,
     "user": {
      "displayName": "Anthony Ransom",
      "userId": "12069863966293774441"
     },
     "user_tz": 240
    },
    "id": "oAF9wzvsyo40",
    "outputId": "c24a36c0-e83f-4cd8-b222-df45a8dfd075"
   },
   "outputs": [
    {
     "name": "stderr",
     "output_type": "stream",
     "text": [
      "[nltk_data] Downloading package stopwords to\n",
      "[nltk_data]     C:\\Users\\Khashayar\\AppData\\Roaming\\nltk_data...\n",
      "[nltk_data]   Package stopwords is already up-to-date!\n"
     ]
    }
   ],
   "source": [
    "# Import libraries for NLTK and sklearn\n",
    "import nltk\n",
    "nltk.download('stopwords')\n",
    "from nltk.corpus import stopwords\n",
    "from nltk.stem.porter import PorterStemmer\n",
    "from sklearn.feature_extraction.text import TfidfVectorizer"
   ]
  },
  {
   "cell_type": "code",
   "execution_count": 20,
   "metadata": {},
   "outputs": [],
   "source": [
    "# create stopwords\n",
    "stop = stopwords.words('english')"
   ]
  },
  {
   "cell_type": "code",
   "execution_count": 21,
   "metadata": {},
   "outputs": [],
   "source": [
    "# for each column in clean_cols remove stopwords\n",
    "for col in clean_cols:\n",
    "  dataset_df[col] = dataset_df[col].apply(lambda x: ' '.join([word for word in x.split() if word not in (stop)]))"
   ]
  },
  {
   "cell_type": "code",
   "execution_count": 22,
   "metadata": {},
   "outputs": [],
   "source": [
    "# Run Stemming on clean_cols\n",
    "porter = PorterStemmer()\n",
    "\n",
    "for col in clean_cols:\n",
    "  dataset_df[col] = dataset_df[col].apply(porter.stem)"
   ]
  },
  {
   "cell_type": "code",
   "execution_count": 23,
   "metadata": {},
   "outputs": [],
   "source": [
    "# Combine all columns in clean_cols into single text column and create new column witi length of text\n",
    "dataset_df['combined_text'] = dataset_df['data_company_profile'] + dataset_df['data_description'] + dataset_df['data_requirements'] + dataset_df['data_benefits']\n",
    "#dataset_df['combined_text_length'] = dataset_df['combined_text'].str.len()\n",
    "\n",
    "# Create list of columns for vectorization\n",
    "num_cols = list(dataset_df.select_dtypes(include=['int64','float64']))\n",
    "num_cols.append('combined_text')"
   ]
  },
  {
   "cell_type": "markdown",
   "metadata": {},
   "source": [
    "### View Resulting Output from NLTK"
   ]
  },
  {
   "cell_type": "code",
   "execution_count": 24,
   "metadata": {
    "scrolled": false
   },
   "outputs": [
    {
     "data": {
      "text/html": [
       "<div>\n",
       "<style scoped>\n",
       "    .dataframe tbody tr th:only-of-type {\n",
       "        vertical-align: middle;\n",
       "    }\n",
       "\n",
       "    .dataframe tbody tr th {\n",
       "        vertical-align: top;\n",
       "    }\n",
       "\n",
       "    .dataframe thead th {\n",
       "        text-align: right;\n",
       "    }\n",
       "</style>\n",
       "<table border=\"1\" class=\"dataframe\">\n",
       "  <thead>\n",
       "    <tr style=\"text-align: right;\">\n",
       "      <th></th>\n",
       "      <th>data_department</th>\n",
       "      <th>data_company_profile</th>\n",
       "      <th>data_description</th>\n",
       "      <th>data_requirements</th>\n",
       "      <th>data_benefits</th>\n",
       "      <th>data_telecommuting</th>\n",
       "      <th>data_has_company_logo</th>\n",
       "      <th>data_has_questions</th>\n",
       "      <th>data_employment_type</th>\n",
       "      <th>data_required_experience</th>\n",
       "      <th>data_required_education</th>\n",
       "      <th>data_industry</th>\n",
       "      <th>data_function</th>\n",
       "      <th>data_fraudulent</th>\n",
       "      <th>data_Country</th>\n",
       "      <th>combined_text</th>\n",
       "    </tr>\n",
       "  </thead>\n",
       "  <tbody>\n",
       "    <tr>\n",
       "      <th>0</th>\n",
       "      <td>0.004963</td>\n",
       "      <td>food52 weve created groundbreaking awardwinnin...</td>\n",
       "      <td>food52 fastgrowing james beard awardwinning on...</td>\n",
       "      <td>experience content management systems major pl...</td>\n",
       "      <td>specifi</td>\n",
       "      <td>0</td>\n",
       "      <td>1</td>\n",
       "      <td>0</td>\n",
       "      <td>3</td>\n",
       "      <td>4</td>\n",
       "      <td>6</td>\n",
       "      <td>0.056088</td>\n",
       "      <td>0.012048</td>\n",
       "      <td>0</td>\n",
       "      <td>0.068506</td>\n",
       "      <td>food52 weve created groundbreaking awardwinnin...</td>\n",
       "    </tr>\n",
       "    <tr>\n",
       "      <th>1</th>\n",
       "      <td>0.000871</td>\n",
       "      <td>90 seconds worlds cloud video production servi...</td>\n",
       "      <td>organisedfocusedvibrantawesomedo passion custo...</td>\n",
       "      <td>expect youyour key responsibility communicate ...</td>\n",
       "      <td>get usthrough part 90 seconds team gainexperie...</td>\n",
       "      <td>0</td>\n",
       "      <td>1</td>\n",
       "      <td>0</td>\n",
       "      <td>1</td>\n",
       "      <td>6</td>\n",
       "      <td>6</td>\n",
       "      <td>0.054348</td>\n",
       "      <td>0.054516</td>\n",
       "      <td>0</td>\n",
       "      <td>0.000000</td>\n",
       "      <td>90 seconds worlds cloud video production servi...</td>\n",
       "    </tr>\n",
       "  </tbody>\n",
       "</table>\n",
       "</div>"
      ],
      "text/plain": [
       "   data_department                               data_company_profile  \\\n",
       "0         0.004963  food52 weve created groundbreaking awardwinnin...   \n",
       "1         0.000871  90 seconds worlds cloud video production servi...   \n",
       "\n",
       "                                    data_description  \\\n",
       "0  food52 fastgrowing james beard awardwinning on...   \n",
       "1  organisedfocusedvibrantawesomedo passion custo...   \n",
       "\n",
       "                                   data_requirements  \\\n",
       "0  experience content management systems major pl...   \n",
       "1  expect youyour key responsibility communicate ...   \n",
       "\n",
       "                                       data_benefits  data_telecommuting  \\\n",
       "0                                            specifi                   0   \n",
       "1  get usthrough part 90 seconds team gainexperie...                   0   \n",
       "\n",
       "   data_has_company_logo  data_has_questions  data_employment_type  \\\n",
       "0                      1                   0                     3   \n",
       "1                      1                   0                     1   \n",
       "\n",
       "   data_required_experience  data_required_education  data_industry  \\\n",
       "0                         4                        6       0.056088   \n",
       "1                         6                        6       0.054348   \n",
       "\n",
       "   data_function  data_fraudulent  data_Country  \\\n",
       "0       0.012048                0      0.068506   \n",
       "1       0.054516                0      0.000000   \n",
       "\n",
       "                                       combined_text  \n",
       "0  food52 weve created groundbreaking awardwinnin...  \n",
       "1  90 seconds worlds cloud video production servi...  "
      ]
     },
     "execution_count": 24,
     "metadata": {},
     "output_type": "execute_result"
    }
   ],
   "source": [
    "dataset_df.head(2)"
   ]
  },
  {
   "cell_type": "code",
   "execution_count": 25,
   "metadata": {},
   "outputs": [],
   "source": [
    "# Create dataframe with only required columns for vectorization\n",
    "vector_df = dataset_df[num_cols]"
   ]
  },
  {
   "cell_type": "code",
   "execution_count": 26,
   "metadata": {},
   "outputs": [
    {
     "data": {
      "text/html": [
       "<div>\n",
       "<style scoped>\n",
       "    .dataframe tbody tr th:only-of-type {\n",
       "        vertical-align: middle;\n",
       "    }\n",
       "\n",
       "    .dataframe tbody tr th {\n",
       "        vertical-align: top;\n",
       "    }\n",
       "\n",
       "    .dataframe thead th {\n",
       "        text-align: right;\n",
       "    }\n",
       "</style>\n",
       "<table border=\"1\" class=\"dataframe\">\n",
       "  <thead>\n",
       "    <tr style=\"text-align: right;\">\n",
       "      <th></th>\n",
       "      <th>data_department</th>\n",
       "      <th>data_telecommuting</th>\n",
       "      <th>data_has_company_logo</th>\n",
       "      <th>data_has_questions</th>\n",
       "      <th>data_industry</th>\n",
       "      <th>data_function</th>\n",
       "      <th>data_fraudulent</th>\n",
       "      <th>data_Country</th>\n",
       "      <th>combined_text</th>\n",
       "    </tr>\n",
       "  </thead>\n",
       "  <tbody>\n",
       "    <tr>\n",
       "      <th>0</th>\n",
       "      <td>0.004963</td>\n",
       "      <td>0</td>\n",
       "      <td>1</td>\n",
       "      <td>0</td>\n",
       "      <td>0.056088</td>\n",
       "      <td>0.012048</td>\n",
       "      <td>0</td>\n",
       "      <td>0.068506</td>\n",
       "      <td>food52 weve created groundbreaking awardwinnin...</td>\n",
       "    </tr>\n",
       "  </tbody>\n",
       "</table>\n",
       "</div>"
      ],
      "text/plain": [
       "   data_department  data_telecommuting  data_has_company_logo  \\\n",
       "0         0.004963                   0                      1   \n",
       "\n",
       "   data_has_questions  data_industry  data_function  data_fraudulent  \\\n",
       "0                   0       0.056088       0.012048                0   \n",
       "\n",
       "   data_Country                                      combined_text  \n",
       "0      0.068506  food52 weve created groundbreaking awardwinnin...  "
      ]
     },
     "execution_count": 26,
     "metadata": {},
     "output_type": "execute_result"
    }
   ],
   "source": [
    "vector_df.head(1)"
   ]
  },
  {
   "cell_type": "code",
   "execution_count": 27,
   "metadata": {},
   "outputs": [],
   "source": [
    "# Create Term freqeuncy Vectorizer\n",
    "tfidf_vect = TfidfVectorizer(use_idf=True,\n",
    "                      smooth_idf=True,\n",
    "                      min_df = 1,\n",
    "                      stop_words = 'english',\n",
    "                      max_features = 1000)"
   ]
  },
  {
   "cell_type": "code",
   "execution_count": 28,
   "metadata": {
    "scrolled": true
   },
   "outputs": [],
   "source": [
    "# Run term frequency vectorizor\n",
    "term_freq_idf_df = pd.DataFrame(tfidf_vect.fit_transform(vector_df['combined_text']).toarray(), columns=tfidf_vect.get_feature_names_out())"
   ]
  },
  {
   "cell_type": "code",
   "execution_count": 29,
   "metadata": {
    "scrolled": true
   },
   "outputs": [
    {
     "data": {
      "text/html": [
       "<div>\n",
       "<style scoped>\n",
       "    .dataframe tbody tr th:only-of-type {\n",
       "        vertical-align: middle;\n",
       "    }\n",
       "\n",
       "    .dataframe tbody tr th {\n",
       "        vertical-align: top;\n",
       "    }\n",
       "\n",
       "    .dataframe thead th {\n",
       "        text-align: right;\n",
       "    }\n",
       "</style>\n",
       "<table border=\"1\" class=\"dataframe\">\n",
       "  <thead>\n",
       "    <tr style=\"text-align: right;\">\n",
       "      <th></th>\n",
       "      <th>10</th>\n",
       "      <th>100</th>\n",
       "      <th>12</th>\n",
       "      <th>20</th>\n",
       "      <th>200</th>\n",
       "      <th>30</th>\n",
       "      <th>401k</th>\n",
       "      <th>50</th>\n",
       "      <th>90</th>\n",
       "      <th>ability</th>\n",
       "      <th>...</th>\n",
       "      <th>worldwide</th>\n",
       "      <th>write</th>\n",
       "      <th>writing</th>\n",
       "      <th>written</th>\n",
       "      <th>year</th>\n",
       "      <th>years</th>\n",
       "      <th>york</th>\n",
       "      <th>youll</th>\n",
       "      <th>young</th>\n",
       "      <th>youre</th>\n",
       "    </tr>\n",
       "  </thead>\n",
       "  <tbody>\n",
       "    <tr>\n",
       "      <th>0</th>\n",
       "      <td>0.0</td>\n",
       "      <td>0.00000</td>\n",
       "      <td>0.0</td>\n",
       "      <td>0.0</td>\n",
       "      <td>0.0</td>\n",
       "      <td>0.000000</td>\n",
       "      <td>0.0</td>\n",
       "      <td>0.000000</td>\n",
       "      <td>0.000000</td>\n",
       "      <td>0.0</td>\n",
       "      <td>...</td>\n",
       "      <td>0.0</td>\n",
       "      <td>0.0</td>\n",
       "      <td>0.0</td>\n",
       "      <td>0.0</td>\n",
       "      <td>0.0</td>\n",
       "      <td>0.0</td>\n",
       "      <td>0.269674</td>\n",
       "      <td>0.0</td>\n",
       "      <td>0.0</td>\n",
       "      <td>0.0</td>\n",
       "    </tr>\n",
       "    <tr>\n",
       "      <th>1</th>\n",
       "      <td>0.0</td>\n",
       "      <td>0.05194</td>\n",
       "      <td>0.0</td>\n",
       "      <td>0.0</td>\n",
       "      <td>0.0</td>\n",
       "      <td>0.051452</td>\n",
       "      <td>0.0</td>\n",
       "      <td>0.057302</td>\n",
       "      <td>0.255256</td>\n",
       "      <td>0.0</td>\n",
       "      <td>...</td>\n",
       "      <td>0.0</td>\n",
       "      <td>0.0</td>\n",
       "      <td>0.0</td>\n",
       "      <td>0.0</td>\n",
       "      <td>0.0</td>\n",
       "      <td>0.0</td>\n",
       "      <td>0.000000</td>\n",
       "      <td>0.0</td>\n",
       "      <td>0.0</td>\n",
       "      <td>0.0</td>\n",
       "    </tr>\n",
       "  </tbody>\n",
       "</table>\n",
       "<p>2 rows × 1000 columns</p>\n",
       "</div>"
      ],
      "text/plain": [
       "    10      100   12   20  200        30  401k        50        90  ability  \\\n",
       "0  0.0  0.00000  0.0  0.0  0.0  0.000000   0.0  0.000000  0.000000      0.0   \n",
       "1  0.0  0.05194  0.0  0.0  0.0  0.051452   0.0  0.057302  0.255256      0.0   \n",
       "\n",
       "   ...  worldwide  write  writing  written  year  years      york  youll  \\\n",
       "0  ...        0.0    0.0      0.0      0.0   0.0    0.0  0.269674    0.0   \n",
       "1  ...        0.0    0.0      0.0      0.0   0.0    0.0  0.000000    0.0   \n",
       "\n",
       "   young  youre  \n",
       "0    0.0    0.0  \n",
       "1    0.0    0.0  \n",
       "\n",
       "[2 rows x 1000 columns]"
      ]
     },
     "execution_count": 29,
     "metadata": {},
     "output_type": "execute_result"
    }
   ],
   "source": [
    "term_freq_idf_df.head(2)"
   ]
  },
  {
   "cell_type": "markdown",
   "metadata": {},
   "source": [
    "### Create DF ready for Machine Learning"
   ]
  },
  {
   "cell_type": "code",
   "execution_count": 30,
   "metadata": {},
   "outputs": [],
   "source": [
    "# Merge vector_df with term frequency vectorizor output\n",
    "ml_df = vector_df.merge(term_freq_idf_df, left_index=True, right_index=True, how='inner')"
   ]
  },
  {
   "cell_type": "code",
   "execution_count": 31,
   "metadata": {},
   "outputs": [],
   "source": [
    "# drop the original text column\n",
    "ml_df.drop('combined_text',axis=1,inplace=True)"
   ]
  },
  {
   "cell_type": "code",
   "execution_count": 32,
   "metadata": {},
   "outputs": [
    {
     "data": {
      "text/html": [
       "<div>\n",
       "<style scoped>\n",
       "    .dataframe tbody tr th:only-of-type {\n",
       "        vertical-align: middle;\n",
       "    }\n",
       "\n",
       "    .dataframe tbody tr th {\n",
       "        vertical-align: top;\n",
       "    }\n",
       "\n",
       "    .dataframe thead th {\n",
       "        text-align: right;\n",
       "    }\n",
       "</style>\n",
       "<table border=\"1\" class=\"dataframe\">\n",
       "  <thead>\n",
       "    <tr style=\"text-align: right;\">\n",
       "      <th></th>\n",
       "      <th>data_department</th>\n",
       "      <th>data_telecommuting</th>\n",
       "      <th>data_has_company_logo</th>\n",
       "      <th>data_has_questions</th>\n",
       "      <th>data_industry</th>\n",
       "      <th>data_function</th>\n",
       "      <th>data_fraudulent</th>\n",
       "      <th>data_Country</th>\n",
       "      <th>10</th>\n",
       "      <th>100</th>\n",
       "      <th>...</th>\n",
       "      <th>worldwide</th>\n",
       "      <th>write</th>\n",
       "      <th>writing</th>\n",
       "      <th>written</th>\n",
       "      <th>year</th>\n",
       "      <th>years</th>\n",
       "      <th>york</th>\n",
       "      <th>youll</th>\n",
       "      <th>young</th>\n",
       "      <th>youre</th>\n",
       "    </tr>\n",
       "  </thead>\n",
       "  <tbody>\n",
       "    <tr>\n",
       "      <th>0</th>\n",
       "      <td>0.004963</td>\n",
       "      <td>0</td>\n",
       "      <td>1</td>\n",
       "      <td>0</td>\n",
       "      <td>0.056088</td>\n",
       "      <td>0.012048</td>\n",
       "      <td>0</td>\n",
       "      <td>0.068506</td>\n",
       "      <td>0.0</td>\n",
       "      <td>0.00000</td>\n",
       "      <td>...</td>\n",
       "      <td>0.0</td>\n",
       "      <td>0.0</td>\n",
       "      <td>0.0</td>\n",
       "      <td>0.0</td>\n",
       "      <td>0.0</td>\n",
       "      <td>0.0</td>\n",
       "      <td>0.269674</td>\n",
       "      <td>0.0</td>\n",
       "      <td>0.0</td>\n",
       "      <td>0.0</td>\n",
       "    </tr>\n",
       "    <tr>\n",
       "      <th>1</th>\n",
       "      <td>0.000871</td>\n",
       "      <td>0</td>\n",
       "      <td>1</td>\n",
       "      <td>0</td>\n",
       "      <td>0.054348</td>\n",
       "      <td>0.054516</td>\n",
       "      <td>0</td>\n",
       "      <td>0.000000</td>\n",
       "      <td>0.0</td>\n",
       "      <td>0.05194</td>\n",
       "      <td>...</td>\n",
       "      <td>0.0</td>\n",
       "      <td>0.0</td>\n",
       "      <td>0.0</td>\n",
       "      <td>0.0</td>\n",
       "      <td>0.0</td>\n",
       "      <td>0.0</td>\n",
       "      <td>0.000000</td>\n",
       "      <td>0.0</td>\n",
       "      <td>0.0</td>\n",
       "      <td>0.0</td>\n",
       "    </tr>\n",
       "  </tbody>\n",
       "</table>\n",
       "<p>2 rows × 1008 columns</p>\n",
       "</div>"
      ],
      "text/plain": [
       "   data_department  data_telecommuting  data_has_company_logo  \\\n",
       "0         0.004963                   0                      1   \n",
       "1         0.000871                   0                      1   \n",
       "\n",
       "   data_has_questions  data_industry  data_function  data_fraudulent  \\\n",
       "0                   0       0.056088       0.012048                0   \n",
       "1                   0       0.054348       0.054516                0   \n",
       "\n",
       "   data_Country   10      100  ...  worldwide  write  writing  written  year  \\\n",
       "0      0.068506  0.0  0.00000  ...        0.0    0.0      0.0      0.0   0.0   \n",
       "1      0.000000  0.0  0.05194  ...        0.0    0.0      0.0      0.0   0.0   \n",
       "\n",
       "   years      york  youll  young  youre  \n",
       "0    0.0  0.269674    0.0    0.0    0.0  \n",
       "1    0.0  0.000000    0.0    0.0    0.0  \n",
       "\n",
       "[2 rows x 1008 columns]"
      ]
     },
     "execution_count": 32,
     "metadata": {},
     "output_type": "execute_result"
    }
   ],
   "source": [
    "ml_df.head(2)"
   ]
  },
  {
   "cell_type": "markdown",
   "metadata": {},
   "source": [
    "## Step 5: Machine Learning\n",
    "ml_df is the dataframe ready for machine learning\n",
    "---"
   ]
  },
  {
   "cell_type": "code",
   "execution_count": 33,
   "metadata": {},
   "outputs": [],
   "source": [
    "# Selecting our feature and target variables\n",
    "from sklearn.model_selection import train_test_split\n",
    "x = ml_df.drop('data_fraudulent',axis=1)\n",
    "y = ml_df.data_fraudulent\n",
    "\n",
    "# splitting the dataset into training and testing\n",
    "x_train,x_test,y_train,y_test = train_test_split(x,y,test_size=0.1,random_state=1,stratify=y)"
   ]
  },
  {
   "cell_type": "code",
   "execution_count": 34,
   "metadata": {},
   "outputs": [],
   "source": [
    "# Importing required libraries for LightGBM model\n",
    "import lightgbm as lgb\n",
    "from sklearn import metrics\n",
    "from datetime import datetime"
   ]
  },
  {
   "cell_type": "code",
   "execution_count": 35,
   "metadata": {
    "scrolled": true
   },
   "outputs": [
    {
     "name": "stderr",
     "output_type": "stream",
     "text": [
      "C:\\Users\\Khashayar\\anaconda3\\envs\\mlenv\\lib\\site-packages\\lightgbm\\sklearn.py:736: UserWarning: 'verbose' argument is deprecated and will be removed in a future release of LightGBM. Pass 'log_evaluation()' callback via 'callbacks' argument instead.\n",
      "  _log_warning(\"'verbose' argument is deprecated and will be removed in a future release of LightGBM. \"\n",
      "C:\\Users\\Khashayar\\anaconda3\\envs\\mlenv\\lib\\site-packages\\lightgbm\\engine.py:177: UserWarning: Found `num_iteration` in params. Will use it instead of argument\n",
      "  _log_warning(f\"Found `{alias}` in params. Will use it instead of argument\")\n"
     ]
    },
    {
     "name": "stdout",
     "output_type": "stream",
     "text": [
      "[LightGBM] [Warning] bagging_fraction is set=0.9, subsample=1.0 will be ignored. Current value: bagging_fraction=0.9\n",
      "[LightGBM] [Warning] num_iterations is set=250, num_iteration=250 will be ignored. Current value: num_iterations=250\n",
      "[50]\ttraining's binary_logloss: 0.0332715\tvalid_0's binary_logloss: 0.0610537\n",
      "[100]\ttraining's binary_logloss: 0.0190266\tvalid_0's binary_logloss: 0.0516277\n",
      "[150]\ttraining's binary_logloss: 0.012428\tvalid_0's binary_logloss: 0.0486777\n",
      "[200]\ttraining's binary_logloss: 0.00837389\tvalid_0's binary_logloss: 0.0466444\n",
      "[250]\ttraining's binary_logloss: 0.00578817\tvalid_0's binary_logloss: 0.0464232\n"
     ]
    }
   ],
   "source": [
    "#setting up the parameters for our LightGBM model and training our model\n",
    "model_lightgbm = lgb.LGBMClassifier(num_iteration=250,learning_rate=0.08,max_depth=7,random_state=1,bagging_fraction=0.9)\n",
    "lgb_start = datetime.now()\n",
    "model_lightgbm.fit(x_train,y_train, eval_set=[(x_test,y_test),(x_train ,y_train)], verbose=50, eval_metric='logloss')\n",
    "lgb_stop = datetime.now()"
   ]
  },
  {
   "cell_type": "code",
   "execution_count": 36,
   "metadata": {},
   "outputs": [],
   "source": [
    "#Execution time of the LightGBM model \n",
    "execution_time_lgb = lgb_stop - lgb_start"
   ]
  },
  {
   "cell_type": "code",
   "execution_count": 37,
   "metadata": {},
   "outputs": [
    {
     "name": "stdout",
     "output_type": "stream",
     "text": [
      "Training accuracy of the lightgbm model is  0.9996\n"
     ]
    }
   ],
   "source": [
    "# printing the accuracy of the model during training\n",
    "print('Training accuracy of the lightgbm model is  {:.4f}'.format(model_lightgbm.score(x_train,y_train)))"
   ]
  },
  {
   "cell_type": "code",
   "execution_count": 38,
   "metadata": {},
   "outputs": [
    {
     "name": "stdout",
     "output_type": "stream",
     "text": [
      "Testing accuracy of the lightgbm model is  0.9838\n"
     ]
    }
   ],
   "source": [
    "# printing the accuracy of the model during Testing\n",
    "print('Testing accuracy of the lightgbm model is  {:.4f}'.format(model_lightgbm.score(x_test,y_test)))"
   ]
  },
  {
   "cell_type": "code",
   "execution_count": 39,
   "metadata": {},
   "outputs": [],
   "source": [
    "# calculating accuracy of our model \n",
    "accuracy_lgb = model_lightgbm.score(x_test,y_test)"
   ]
  },
  {
   "cell_type": "code",
   "execution_count": null,
   "metadata": {
    "scrolled": true
   },
   "outputs": [],
   "source": [
    "# Plotting the important features\n",
    "lgb.plot_importance(model_lightgbm, max_num_features=10)"
   ]
  },
  {
   "cell_type": "code",
   "execution_count": null,
   "metadata": {},
   "outputs": [],
   "source": [
    "# Graphing the learning curve for LightGBM model\n",
    "lgb.plot_metric(model_lightgbm)"
   ]
  },
  {
   "cell_type": "code",
   "execution_count": null,
   "metadata": {
    "scrolled": true
   },
   "outputs": [],
   "source": [
    "# Classification report for Training LightGBM\n",
    "print(metrics.classification_report(y_train,model_lightgbm.predict(x_train)))"
   ]
  },
  {
   "cell_type": "code",
   "execution_count": null,
   "metadata": {},
   "outputs": [],
   "source": [
    "# Classification report for Testing LightGBM\n",
    "print(metrics.classification_report(y_test,model_lightgbm.predict(x_test)))"
   ]
  },
  {
   "cell_type": "code",
   "execution_count": null,
   "metadata": {},
   "outputs": [],
   "source": [
    "# Splitting Training classification report into its components for LightGBM\n",
    "from sklearn.metrics import precision_recall_fscore_support as score\n",
    "precision,recall,fscore,support=score(y_train,model_lightgbm.predict(x_train))\n",
    "print ('Precision : {}'.format(precision))\n",
    "print ('Recall    : {}'.format(recall))\n",
    "print ('F-score   : {}'.format(fscore))\n",
    "print ('Support   : {}'.format(support))"
   ]
  },
  {
   "cell_type": "code",
   "execution_count": null,
   "metadata": {},
   "outputs": [],
   "source": [
    "# Splitting Testing classification report into its components for LightGBM\n",
    "precision,recall,fscore,support=score(y_test,model_lightgbm.predict(x_test))\n",
    "lgb_recall = score(y_test,model_lightgbm.predict(x_test))[1]\n",
    "lgb_recall_0 = lgb_recall[0]\n",
    "lgb_recall_1 = lgb_recall[1]"
   ]
  },
  {
   "cell_type": "code",
   "execution_count": null,
   "metadata": {},
   "outputs": [],
   "source": [
    "# Plotting confusion matrix for LightGBM model\n",
    "metrics.plot_confusion_matrix(model_lightgbm,x_test,y_test)"
   ]
  },
  {
   "cell_type": "code",
   "execution_count": null,
   "metadata": {},
   "outputs": [],
   "source": [
    "# Importing required libraries for XGBoost model\n",
    "import xgboost as xgb\n",
    "from sklearn.metrics import confusion_matrix\n",
    "from sklearn.metrics import plot_confusion_matrix"
   ]
  },
  {
   "cell_type": "code",
   "execution_count": null,
   "metadata": {},
   "outputs": [],
   "source": [
    "#setting up the parameters for our XGBoost model and training our model\n",
    "model_xgboost = xgb.XGBClassifier(n_estimators = 100, objective='binary:logistic', missing=1, seed= 42, random_state=1)\n",
    "xgb_start = datetime.now()\n",
    "model_xgboost.fit(x_train, y_train, eval_set=[(x_test,y_test),(x_train,y_train)], verbose=50, eval_metric='logloss')\n",
    "xgb_stop=datetime.now()"
   ]
  },
  {
   "cell_type": "code",
   "execution_count": null,
   "metadata": {},
   "outputs": [],
   "source": [
    "# Execution time of the XGBoost model \n",
    "execution_time_xgb = xgb_stop - xgb_start "
   ]
  },
  {
   "cell_type": "code",
   "execution_count": null,
   "metadata": {},
   "outputs": [],
   "source": [
    "# calculating accuracy of XGBoost model \n",
    "accuracy_xgb = model_xgboost.score(x_test,y_test)"
   ]
  },
  {
   "cell_type": "code",
   "execution_count": null,
   "metadata": {},
   "outputs": [],
   "source": [
    "# Plotting the important features for XGBoost model\n",
    "xgb.plot_importance(model_xgboost, max_num_features=10)"
   ]
  },
  {
   "cell_type": "code",
   "execution_count": null,
   "metadata": {},
   "outputs": [],
   "source": [
    "results = model_xgboost.evals_result()\n",
    "epochs = len(results['validation_0']['logloss'])\n",
    "x_axis = range(0, epochs)"
   ]
  },
  {
   "cell_type": "code",
   "execution_count": null,
   "metadata": {},
   "outputs": [],
   "source": [
    "# Plotting the learning curve for XGBoost model\n",
    "from matplotlib import pyplot\n",
    "fig, ax = pyplot.subplots()\n",
    "ax.plot(x_axis, results['validation_0']['logloss'], label='Train')\n",
    "ax.plot(x_axis, results['validation_1']['logloss'], label='Test')\n",
    "ax.legend()\n",
    "pyplot.ylabel('logloss')\n",
    "pyplot.title('XGBoost logloss')\n",
    "pyplot.grid()\n",
    "pyplot.show()"
   ]
  },
  {
   "cell_type": "code",
   "execution_count": null,
   "metadata": {},
   "outputs": [],
   "source": [
    "# Plotting the confusion matrix for XGBoost model\n",
    "plot_confusion_matrix(model_xgboost, \n",
    "                      x_test, \n",
    "                      y_test, \n",
    "                      values_format='d',\n",
    "                      display_labels=['Not Fraud','Fraud'],\n",
    "                      colorbar = False)"
   ]
  },
  {
   "cell_type": "code",
   "execution_count": null,
   "metadata": {},
   "outputs": [],
   "source": [
    "# Classification report for Training XGBoost\n",
    "print(metrics.classification_report(y_train,model_xgboost.predict(x_train)))"
   ]
  },
  {
   "cell_type": "code",
   "execution_count": null,
   "metadata": {},
   "outputs": [],
   "source": [
    "# Classification report for Testing XGBoost\n",
    "print(metrics.classification_report(y_test,model_xgboost.predict(x_test)))"
   ]
  },
  {
   "cell_type": "code",
   "execution_count": null,
   "metadata": {},
   "outputs": [],
   "source": [
    "# Splitting Training classification report into its components for XGBoost\n",
    "precision,recall,fscore,support= score(y_train,model_xgboost.predict(x_train))\n",
    "print ('Precision : {}'.format(precision))\n",
    "print ('Recall    : {}'.format(recall))\n",
    "print ('F-score   : {}'.format(fscore))\n",
    "print ('Support   : {}'.format(support))"
   ]
  },
  {
   "cell_type": "code",
   "execution_count": null,
   "metadata": {},
   "outputs": [],
   "source": [
    "# Splitting Testing classification report into its components for XGBoost\n",
    "precision,recall,fscore,support= score(y_test,model_xgboost.predict(x_test))\n",
    "xgb_recall = score(y_test,model_xgboost.predict(x_test))[1]\n",
    "xgb_recall_0 = xgb_recall[0]\n",
    "xgb_recall_1 = xgb_recall[1]"
   ]
  },
  {
   "cell_type": "code",
   "execution_count": null,
   "metadata": {},
   "outputs": [],
   "source": [
    "# Creating comparison dictionary\n",
    "comparison_dict = {'accuracy score':(accuracy_lgb,accuracy_xgb),'Recall 0':(lgb_recall_0, xgb_recall_0),'Recall 1':(lgb_recall_1, xgb_recall_1), 'execution time':(execution_time_lgb, execution_time_xgb)}\n",
    "\n",
    "# Creating a dataframe ‘comparison_df’ for comparing the performance of Lightgbm and xgb. \n",
    "comparison_df = pd.DataFrame(comparison_dict) \n",
    "comparison_df.index= ['LightGBM','XGBoost'] \n",
    "comparison_df"
   ]
  },
  {
   "cell_type": "code",
   "execution_count": null,
   "metadata": {
    "collapsed": true
   },
   "outputs": [],
   "source": []
  },
  {
   "cell_type": "code",
   "execution_count": null,
   "metadata": {},
   "outputs": [],
   "source": []
  }
 ],
 "metadata": {
  "colab": {
   "authorship_tag": "ABX9TyNxnUo0de54EHB56n+6QNyw",
   "collapsed_sections": [
    "5y6WMSyPeIda",
    "uTMO57vfeSnQ",
    "0_kkMfW5fqpx",
    "1l6KO0vVijQF",
    "0aXsfxSeiuAK"
   ],
   "mount_file_id": "18Rt0YPUrQmDYN0fg72F-OGqqbCoWVkNP",
   "name": "Capstone.ipynb",
   "provenance": []
  },
  "kernelspec": {
   "display_name": "Python 3 (ipykernel)",
   "language": "python",
   "name": "python3"
  },
  "language_info": {
   "codemirror_mode": {
    "name": "ipython",
    "version": 3
   },
   "file_extension": ".py",
   "mimetype": "text/x-python",
   "name": "python",
   "nbconvert_exporter": "python",
   "pygments_lexer": "ipython3",
   "version": "3.9.12"
  }
 },
 "nbformat": 4,
 "nbformat_minor": 1
}
