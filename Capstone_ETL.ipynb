{
 "cells": [
  {
   "cell_type": "markdown",
   "metadata": {
    "id": "vhf-IXpOeDNk"
   },
   "source": [
    "# CAPSTON PROJECT\n",
    "\n",
    "---\n",
    "\n"
   ]
  },
  {
   "cell_type": "markdown",
   "metadata": {
    "id": "5y6WMSyPeIda"
   },
   "source": [
    "## STEP 1: LOAD and IMPORT LIBRARIES\n",
    "\n",
    "---\n",
    "\n"
   ]
  },
  {
   "cell_type": "code",
   "execution_count": 1,
   "metadata": {
    "executionInfo": {
     "elapsed": 553,
     "status": "ok",
     "timestamp": 1658424546626,
     "user": {
      "displayName": "Anthony Ransom",
      "userId": "12069863966293774441"
     },
     "user_tz": 240
    },
    "id": "Vsujb1rpOpMt"
   },
   "outputs": [],
   "source": [
    "import os\n",
    "import re\n",
    "import string\n",
    "import pandas as pd\n",
    "import numpy as np"
   ]
  },
  {
   "cell_type": "markdown",
   "metadata": {
    "id": "uTMO57vfeSnQ"
   },
   "source": [
    "## STEP 2: IMPORT DATA\n",
    "\n",
    "---\n",
    "\n"
   ]
  },
  {
   "cell_type": "code",
   "execution_count": 2,
   "metadata": {
    "colab": {
     "base_uri": "https://localhost:8080/",
     "height": 0
    },
    "executionInfo": {
     "elapsed": 2702,
     "status": "ok",
     "timestamp": 1658424565068,
     "user": {
      "displayName": "Anthony Ransom",
      "userId": "12069863966293774441"
     },
     "user_tz": 240
    },
    "id": "1Lp1AFaJexwP",
    "outputId": "33d53105-475f-4c53-e44e-e104ad8dd452",
    "scrolled": true
   },
   "outputs": [
    {
     "data": {
      "text/html": [
       "<div>\n",
       "<style scoped>\n",
       "    .dataframe tbody tr th:only-of-type {\n",
       "        vertical-align: middle;\n",
       "    }\n",
       "\n",
       "    .dataframe tbody tr th {\n",
       "        vertical-align: top;\n",
       "    }\n",
       "\n",
       "    .dataframe thead th {\n",
       "        text-align: right;\n",
       "    }\n",
       "</style>\n",
       "<table border=\"1\" class=\"dataframe\">\n",
       "  <thead>\n",
       "    <tr style=\"text-align: right;\">\n",
       "      <th></th>\n",
       "      <th>job_id</th>\n",
       "      <th>title</th>\n",
       "      <th>location</th>\n",
       "      <th>department</th>\n",
       "      <th>salary_range</th>\n",
       "      <th>company_profile</th>\n",
       "      <th>description</th>\n",
       "      <th>requirements</th>\n",
       "      <th>benefits</th>\n",
       "      <th>telecommuting</th>\n",
       "      <th>has_company_logo</th>\n",
       "      <th>has_questions</th>\n",
       "      <th>employment_type</th>\n",
       "      <th>required_experience</th>\n",
       "      <th>required_education</th>\n",
       "      <th>industry</th>\n",
       "      <th>function</th>\n",
       "      <th>fraudulent</th>\n",
       "    </tr>\n",
       "  </thead>\n",
       "  <tbody>\n",
       "    <tr>\n",
       "      <th>0</th>\n",
       "      <td>1</td>\n",
       "      <td>Marketing Intern</td>\n",
       "      <td>US; NY; New York</td>\n",
       "      <td>Marketing</td>\n",
       "      <td>NaN</td>\n",
       "      <td>We're Food52 and we've created a groundbreakin...</td>\n",
       "      <td>Food52 a fast-growing James Beard Award-winnin...</td>\n",
       "      <td>Experience with content management systems a m...</td>\n",
       "      <td>NaN</td>\n",
       "      <td>0</td>\n",
       "      <td>1</td>\n",
       "      <td>0</td>\n",
       "      <td>Other</td>\n",
       "      <td>Internship</td>\n",
       "      <td>NaN</td>\n",
       "      <td>NaN</td>\n",
       "      <td>Marketing</td>\n",
       "      <td>0</td>\n",
       "    </tr>\n",
       "  </tbody>\n",
       "</table>\n",
       "</div>"
      ],
      "text/plain": [
       "   job_id             title          location department salary_range  \\\n",
       "0       1  Marketing Intern  US; NY; New York  Marketing          NaN   \n",
       "\n",
       "                                     company_profile  \\\n",
       "0  We're Food52 and we've created a groundbreakin...   \n",
       "\n",
       "                                         description  \\\n",
       "0  Food52 a fast-growing James Beard Award-winnin...   \n",
       "\n",
       "                                        requirements benefits  telecommuting  \\\n",
       "0  Experience with content management systems a m...      NaN              0   \n",
       "\n",
       "   has_company_logo  has_questions employment_type required_experience  \\\n",
       "0                 1              0           Other          Internship   \n",
       "\n",
       "  required_education industry   function  fraudulent  \n",
       "0                NaN      NaN  Marketing           0  "
      ]
     },
     "execution_count": 2,
     "metadata": {},
     "output_type": "execute_result"
    }
   ],
   "source": [
    "#dataset_df = pd.read_csv(\"Resources/fake_job_postings.csv\")\n",
    "dataset_df = pd.read_csv(\"https://raw.githubusercontent.com/Ikyupark/Capstone-project/main/Resources/fake_job_postings.csv\")\n",
    "dataset_df.head(1)\n",
    "\n",
    "#import psycopg2\n",
    "#import getpass\n",
    "#db_password = getpass.getpass(prompt='DB Password ')\n",
    "\n",
    "#engine = psycopg2.connect(\n",
    "#    database=\"Capstone_Project_Group_9\",\n",
    "#    user=\"postgres\",\n",
    "#    password=db_password,\n",
    "#    host=\"capstone-project-group-9.c4857qrbkptn.us-east-2.rds.amazonaws.com\",\n",
    "#    port='5432'\n",
    "#)\n",
    "\n",
    "#dataset_df = pd.read_sql('SELECT * FROM Test', engine)\n",
    "#dataset_df.head(5)"
   ]
  },
  {
   "cell_type": "code",
   "execution_count": 3,
   "metadata": {
    "executionInfo": {
     "elapsed": 8,
     "status": "ok",
     "timestamp": 1658424565069,
     "user": {
      "displayName": "Anthony Ransom",
      "userId": "12069863966293774441"
     },
     "user_tz": 240
    },
    "id": "CQpTv1VKpRH7"
   },
   "outputs": [],
   "source": [
    "# Drop columns with too many null values or where all values are unique\n",
    "dataset_df = dataset_df.drop(columns=['job_id','salary_range','title'])"
   ]
  },
  {
   "cell_type": "code",
   "execution_count": 4,
   "metadata": {
    "colab": {
     "base_uri": "https://localhost:8080/"
    },
    "executionInfo": {
     "elapsed": 131,
     "status": "ok",
     "timestamp": 1658424565193,
     "user": {
      "displayName": "Anthony Ransom",
      "userId": "12069863966293774441"
     },
     "user_tz": 240
    },
    "id": "RoZvrtHdJAiH",
    "outputId": "920880e2-2def-4e65-d6dd-8191841ea1fa"
   },
   "outputs": [
    {
     "data": {
      "text/plain": [
       "location                 346\n",
       "department             11547\n",
       "company_profile         3308\n",
       "description                1\n",
       "requirements            2695\n",
       "benefits                7210\n",
       "telecommuting              0\n",
       "has_company_logo           0\n",
       "has_questions              0\n",
       "employment_type         3471\n",
       "required_experience     7050\n",
       "required_education      8105\n",
       "industry                4903\n",
       "function                6455\n",
       "fraudulent                 0\n",
       "dtype: int64"
      ]
     },
     "execution_count": 4,
     "metadata": {},
     "output_type": "execute_result"
    }
   ],
   "source": [
    "# Display number of null values for each column\n",
    "dataset_df.isnull().sum()"
   ]
  },
  {
   "cell_type": "code",
   "execution_count": 5,
   "metadata": {
    "colab": {
     "base_uri": "https://localhost:8080/",
     "height": 0
    },
    "executionInfo": {
     "elapsed": 276,
     "status": "ok",
     "timestamp": 1658424565466,
     "user": {
      "displayName": "Anthony Ransom",
      "userId": "12069863966293774441"
     },
     "user_tz": 240
    },
    "id": "JA4XY6Puhzto",
    "outputId": "43b6af71-9df0-4cb5-de87-b7305f40789f",
    "scrolled": false
   },
   "outputs": [
    {
     "data": {
      "text/html": [
       "<div>\n",
       "<style scoped>\n",
       "    .dataframe tbody tr th:only-of-type {\n",
       "        vertical-align: middle;\n",
       "    }\n",
       "\n",
       "    .dataframe tbody tr th {\n",
       "        vertical-align: top;\n",
       "    }\n",
       "\n",
       "    .dataframe thead th {\n",
       "        text-align: right;\n",
       "    }\n",
       "</style>\n",
       "<table border=\"1\" class=\"dataframe\">\n",
       "  <thead>\n",
       "    <tr style=\"text-align: right;\">\n",
       "      <th></th>\n",
       "      <th>department</th>\n",
       "      <th>company_profile</th>\n",
       "      <th>description</th>\n",
       "      <th>requirements</th>\n",
       "      <th>benefits</th>\n",
       "      <th>telecommuting</th>\n",
       "      <th>has_company_logo</th>\n",
       "      <th>has_questions</th>\n",
       "      <th>employment_type</th>\n",
       "      <th>required_experience</th>\n",
       "      <th>required_education</th>\n",
       "      <th>industry</th>\n",
       "      <th>function</th>\n",
       "      <th>fraudulent</th>\n",
       "      <th>Country</th>\n",
       "    </tr>\n",
       "  </thead>\n",
       "  <tbody>\n",
       "    <tr>\n",
       "      <th>0</th>\n",
       "      <td>Marketing</td>\n",
       "      <td>We're Food52 and we've created a groundbreakin...</td>\n",
       "      <td>Food52 a fast-growing James Beard Award-winnin...</td>\n",
       "      <td>Experience with content management systems a m...</td>\n",
       "      <td>NaN</td>\n",
       "      <td>0</td>\n",
       "      <td>1</td>\n",
       "      <td>0</td>\n",
       "      <td>Other</td>\n",
       "      <td>Internship</td>\n",
       "      <td>NaN</td>\n",
       "      <td>NaN</td>\n",
       "      <td>Marketing</td>\n",
       "      <td>0</td>\n",
       "      <td>US</td>\n",
       "    </tr>\n",
       "  </tbody>\n",
       "</table>\n",
       "</div>"
      ],
      "text/plain": [
       "  department                                    company_profile  \\\n",
       "0  Marketing  We're Food52 and we've created a groundbreakin...   \n",
       "\n",
       "                                         description  \\\n",
       "0  Food52 a fast-growing James Beard Award-winnin...   \n",
       "\n",
       "                                        requirements benefits  telecommuting  \\\n",
       "0  Experience with content management systems a m...      NaN              0   \n",
       "\n",
       "   has_company_logo  has_questions employment_type required_experience  \\\n",
       "0                 1              0           Other          Internship   \n",
       "\n",
       "  required_education industry   function  fraudulent Country  \n",
       "0                NaN      NaN  Marketing           0      US  "
      ]
     },
     "execution_count": 5,
     "metadata": {},
     "output_type": "execute_result"
    }
   ],
   "source": [
    "# Split the location columns by the seperator and only keep the country, state and city\n",
    "dataset_df['Country'] = dataset_df['location'].str.split(';').str[0]\n",
    "dataset_df = dataset_df.drop(columns=['location'])\n",
    "dataset_df.head(1)"
   ]
  },
  {
   "cell_type": "code",
   "execution_count": 6,
   "metadata": {},
   "outputs": [],
   "source": [
    "# Process to remove all characters from the data\n",
    "clean_cols = [\"company_profile\", \"description\", \"requirements\", \"benefits\"]\n",
    "punctuation = string.punctuation+r'[^a-zA-Z0-9\\s]'"
   ]
  },
  {
   "cell_type": "code",
   "execution_count": 7,
   "metadata": {
    "scrolled": true
   },
   "outputs": [],
   "source": [
    "# Replace null values with empty string\n",
    "##dataset_df = dataset_df.fillna('')\n",
    "##dataset_df.head(1)\n",
    "\n",
    "for col in clean_cols:\n",
    "  dataset_df[col] = dataset_df[col].replace(np.nan,'')"
   ]
  },
  {
   "cell_type": "code",
   "execution_count": 8,
   "metadata": {
    "colab": {
     "base_uri": "https://localhost:8080/",
     "height": 0
    },
    "executionInfo": {
     "elapsed": 5909,
     "status": "ok",
     "timestamp": 1658424571373,
     "user": {
      "displayName": "Anthony Ransom",
      "userId": "12069863966293774441"
     },
     "user_tz": 240
    },
    "id": "ZSDbFC3ifEll",
    "outputId": "6dac51c0-efc7-4c89-e8dc-126710c02b3b"
   },
   "outputs": [],
   "source": [
    "# Define function that will remove punctuation from text\n",
    "def clean_punctuations(text):\n",
    "    for char in punctuation:\n",
    "      if text !=np.nan:\n",
    "        text = text.replace(char, '')\n",
    "    return text"
   ]
  },
  {
   "cell_type": "code",
   "execution_count": 9,
   "metadata": {
    "scrolled": true
   },
   "outputs": [
    {
     "data": {
      "text/html": [
       "<div>\n",
       "<style scoped>\n",
       "    .dataframe tbody tr th:only-of-type {\n",
       "        vertical-align: middle;\n",
       "    }\n",
       "\n",
       "    .dataframe tbody tr th {\n",
       "        vertical-align: top;\n",
       "    }\n",
       "\n",
       "    .dataframe thead th {\n",
       "        text-align: right;\n",
       "    }\n",
       "</style>\n",
       "<table border=\"1\" class=\"dataframe\">\n",
       "  <thead>\n",
       "    <tr style=\"text-align: right;\">\n",
       "      <th></th>\n",
       "      <th>department</th>\n",
       "      <th>company_profile</th>\n",
       "      <th>description</th>\n",
       "      <th>requirements</th>\n",
       "      <th>benefits</th>\n",
       "      <th>telecommuting</th>\n",
       "      <th>has_company_logo</th>\n",
       "      <th>has_questions</th>\n",
       "      <th>employment_type</th>\n",
       "      <th>required_experience</th>\n",
       "      <th>required_education</th>\n",
       "      <th>industry</th>\n",
       "      <th>function</th>\n",
       "      <th>fraudulent</th>\n",
       "      <th>Country</th>\n",
       "    </tr>\n",
       "  </thead>\n",
       "  <tbody>\n",
       "    <tr>\n",
       "      <th>0</th>\n",
       "      <td>Marketing</td>\n",
       "      <td>Were Food52 nd weve creted  groundbreking nd w...</td>\n",
       "      <td>Food52  ftgrowing Jme Berd wrdwinning online f...</td>\n",
       "      <td>Experience with content mngement ytem  mjor pl...</td>\n",
       "      <td></td>\n",
       "      <td>0</td>\n",
       "      <td>1</td>\n",
       "      <td>0</td>\n",
       "      <td>Other</td>\n",
       "      <td>Internship</td>\n",
       "      <td>NaN</td>\n",
       "      <td>NaN</td>\n",
       "      <td>Marketing</td>\n",
       "      <td>0</td>\n",
       "      <td>US</td>\n",
       "    </tr>\n",
       "  </tbody>\n",
       "</table>\n",
       "</div>"
      ],
      "text/plain": [
       "  department                                    company_profile  \\\n",
       "0  Marketing  Were Food52 nd weve creted  groundbreking nd w...   \n",
       "\n",
       "                                         description  \\\n",
       "0  Food52  ftgrowing Jme Berd wrdwinning online f...   \n",
       "\n",
       "                                        requirements benefits  telecommuting  \\\n",
       "0  Experience with content mngement ytem  mjor pl...                       0   \n",
       "\n",
       "   has_company_logo  has_questions employment_type required_experience  \\\n",
       "0                 1              0           Other          Internship   \n",
       "\n",
       "  required_education industry   function  fraudulent Country  \n",
       "0                NaN      NaN  Marketing           0      US  "
      ]
     },
     "execution_count": 9,
     "metadata": {},
     "output_type": "execute_result"
    }
   ],
   "source": [
    "# Loop through clean_cols and remove punctuation and characters\n",
    "for col in clean_cols:\n",
    "    dataset_df[col] = dataset_df[col].apply(clean_punctuations)\n",
    "    #dataset_df[col] = dataset_df[col].replace(r'[^a-zA-Z0-9\\s]', '',regex=True)\n",
    "    #dataset_df[col] = dataset_df[col].replace(r'\\s{2,}', '',regex=True)\n",
    "\n",
    "dataset_df.head(1)"
   ]
  },
  {
   "cell_type": "code",
   "execution_count": 10,
   "metadata": {
    "colab": {
     "base_uri": "https://localhost:8080/"
    },
    "executionInfo": {
     "elapsed": 330,
     "status": "ok",
     "timestamp": 1658424571965,
     "user": {
      "displayName": "Anthony Ransom",
      "userId": "12069863966293774441"
     },
     "user_tz": 240
    },
    "id": "OI7UBsFvJTs3",
    "outputId": "df4845b8-8797-43f0-d46e-979064e9b636"
   },
   "outputs": [
    {
     "data": {
      "text/plain": [
       "department             11547\n",
       "company_profile            0\n",
       "description                0\n",
       "requirements               0\n",
       "benefits                   0\n",
       "telecommuting              0\n",
       "has_company_logo           0\n",
       "has_questions              0\n",
       "employment_type         3471\n",
       "required_experience     7050\n",
       "required_education      8105\n",
       "industry                4903\n",
       "function                6455\n",
       "fraudulent                 0\n",
       "Country                  346\n",
       "dtype: int64"
      ]
     },
     "execution_count": 10,
     "metadata": {},
     "output_type": "execute_result"
    }
   ],
   "source": [
    "# check the number of null values in columns\n",
    "dataset_df.isnull().sum()"
   ]
  },
  {
   "cell_type": "code",
   "execution_count": 11,
   "metadata": {
    "executionInfo": {
     "elapsed": 110,
     "status": "ok",
     "timestamp": 1658424572074,
     "user": {
      "displayName": "Anthony Ransom",
      "userId": "12069863966293774441"
     },
     "user_tz": 240
    },
    "id": "ULuM7lRdykoI"
   },
   "outputs": [],
   "source": [
    "# Remove any whitespace from the country, city and state columns\n",
    "### No Longer Required ###\n",
    "#dataset_df['Country'] = dataset_df['Country'].map(lambda x: x.strip())\n",
    "\n",
    "#dataset_df.head()"
   ]
  },
  {
   "cell_type": "code",
   "execution_count": 12,
   "metadata": {
    "executionInfo": {
     "elapsed": 665,
     "status": "ok",
     "timestamp": 1658424572737,
     "user": {
      "displayName": "Anthony Ransom",
      "userId": "12069863966293774441"
     },
     "user_tz": 240
    },
    "id": "sTEwliKov7mr"
   },
   "outputs": [],
   "source": [
    "# make all text lower case\n",
    "string_cols = list(dataset_df.select_dtypes(include='object'))\n",
    "for col in string_cols:\n",
    "    dataset_df[col] = dataset_df[col].str.lower()\n",
    "\n",
    "#dataset_df.head()"
   ]
  },
  {
   "cell_type": "code",
   "execution_count": 13,
   "metadata": {
    "executionInfo": {
     "elapsed": 3,
     "status": "ok",
     "timestamp": 1658424572738,
     "user": {
      "displayName": "Anthony Ransom",
      "userId": "12069863966293774441"
     },
     "user_tz": 240
    },
    "id": "W9U30XUILOQ3"
   },
   "outputs": [],
   "source": [
    "# Temporary code block to write cleaned data to csv at this point\n",
    "#dataset_df.to_csv('/content/drive/MyDrive/Colab Notebooks/fake_job_postings_cleaned.csv')"
   ]
  },
  {
   "cell_type": "code",
   "execution_count": 14,
   "metadata": {
    "colab": {
     "base_uri": "https://localhost:8080/"
    },
    "executionInfo": {
     "elapsed": 527,
     "status": "ok",
     "timestamp": 1658424573333,
     "user": {
      "displayName": "Anthony Ransom",
      "userId": "12069863966293774441"
     },
     "user_tz": 240
    },
    "id": "VkGOsdpad2AL",
    "outputId": "05b7e189-0e11-4ce6-9fcf-5b37a0b01baa"
   },
   "outputs": [
    {
     "data": {
      "text/plain": [
       "department              1283\n",
       "company_profile         1710\n",
       "description            14762\n",
       "requirements           11924\n",
       "benefits                6104\n",
       "telecommuting              2\n",
       "has_company_logo           2\n",
       "has_questions              2\n",
       "employment_type            5\n",
       "required_experience        7\n",
       "required_education        13\n",
       "industry                 131\n",
       "function                  37\n",
       "fraudulent                 2\n",
       "Country                   90\n",
       "dtype: int64"
      ]
     },
     "execution_count": 14,
     "metadata": {},
     "output_type": "execute_result"
    }
   ],
   "source": [
    "# Get number of unique values in each column\n",
    "dataset_df.nunique()"
   ]
  },
  {
   "cell_type": "markdown",
   "metadata": {
    "id": "0_kkMfW5fqpx"
   },
   "source": [
    "## Step 3: Value Bucketing\n",
    "\n",
    "---\n",
    "\n"
   ]
  },
  {
   "cell_type": "code",
   "execution_count": 15,
   "metadata": {
    "executionInfo": {
     "elapsed": 5,
     "status": "ok",
     "timestamp": 1658424573334,
     "user": {
      "displayName": "Anthony Ransom",
      "userId": "12069863966293774441"
     },
     "user_tz": 240
    },
    "id": "SZWz0G6cgTB8"
   },
   "outputs": [],
   "source": [
    "# Define function that will keep the top n number of values in a column and change the rest to other\n",
    "def top_n_values(df_column, n):\n",
    "  df_column_counts = df_column.value_counts()\n",
    "  replace_df_column = list(df_column_counts[n:].index)\n",
    "\n",
    "  # Replace in DataFrame\n",
    "  for val in replace_df_column:\n",
    "    df_column = df_column.replace(val,\"Other\")\n",
    "\n",
    "  return df_column"
   ]
  },
  {
   "cell_type": "code",
   "execution_count": 16,
   "metadata": {
    "colab": {
     "base_uri": "https://localhost:8080/"
    },
    "executionInfo": {
     "elapsed": 2485,
     "status": "ok",
     "timestamp": 1658424575815,
     "user": {
      "displayName": "Anthony Ransom",
      "userId": "12069863966293774441"
     },
     "user_tz": 240
    },
    "id": "j2vePIz-g0Ms",
    "outputId": "4d62ecde-c90a-41c5-e134-3d7ae6784a89"
   },
   "outputs": [
    {
     "data": {
      "text/plain": [
       "Other                     3853\n",
       "sales                      568\n",
       "engineering                494\n",
       "marketing                  403\n",
       "operations                 271\n",
       "it                         226\n",
       "development                146\n",
       "product                    114\n",
       "information technology      87\n",
       "customer service            86\n",
       "tech                        85\n",
       "Name: department, dtype: int64"
      ]
     },
     "execution_count": 16,
     "metadata": {},
     "output_type": "execute_result"
    }
   ],
   "source": [
    "dataset_df['department'] = top_n_values(dataset_df['department'], 10)\n",
    "dataset_df.department.value_counts()"
   ]
  },
  {
   "cell_type": "code",
   "execution_count": 17,
   "metadata": {
    "colab": {
     "base_uri": "https://localhost:8080/"
    },
    "executionInfo": {
     "elapsed": 340,
     "status": "ok",
     "timestamp": 1658424576149,
     "user": {
      "displayName": "Anthony Ransom",
      "userId": "12069863966293774441"
     },
     "user_tz": 240
    },
    "id": "Ysq_hY5ShpNy",
    "outputId": "b8399c33-1508-42e9-cbb0-5581efe63b08"
   },
   "outputs": [
    {
     "data": {
      "text/plain": [
       "Other                                  4892\n",
       "information technology and services    1734\n",
       "computer software                      1376\n",
       "internet                               1062\n",
       "marketing and advertising               828\n",
       "education management                    822\n",
       "financial services                      779\n",
       "hospital & health care                  497\n",
       "consumer services                       358\n",
       "telecommunications                      342\n",
       "oil & energy                            287\n",
       "Name: industry, dtype: int64"
      ]
     },
     "execution_count": 17,
     "metadata": {},
     "output_type": "execute_result"
    }
   ],
   "source": [
    "dataset_df['industry'] = top_n_values(dataset_df['industry'], 10)\n",
    "dataset_df.industry.value_counts()"
   ]
  },
  {
   "cell_type": "code",
   "execution_count": 18,
   "metadata": {
    "colab": {
     "base_uri": "https://localhost:8080/"
    },
    "executionInfo": {
     "elapsed": 143,
     "status": "ok",
     "timestamp": 1658424576290,
     "user": {
      "displayName": "Anthony Ransom",
      "userId": "12069863966293774441"
     },
     "user_tz": 240
    },
    "id": "y0lEvs8wiV4w",
    "outputId": "eb3eb2d4-4b7b-4185-dc3a-e0bed2aedcc2"
   },
   "outputs": [
    {
     "data": {
      "text/plain": [
       "Other                     2843\n",
       "information technology    1749\n",
       "sales                     1468\n",
       "engineering               1348\n",
       "customer service          1229\n",
       "marketing                  830\n",
       "administrative             630\n",
       "design                     340\n",
       "health care provider       338\n",
       "other                      325\n",
       "education                  325\n",
       "Name: function, dtype: int64"
      ]
     },
     "execution_count": 18,
     "metadata": {},
     "output_type": "execute_result"
    }
   ],
   "source": [
    "dataset_df['function'] = top_n_values(dataset_df['function'], 10)\n",
    "dataset_df.function.value_counts()"
   ]
  },
  {
   "cell_type": "code",
   "execution_count": 19,
   "metadata": {
    "colab": {
     "base_uri": "https://localhost:8080/"
    },
    "executionInfo": {
     "elapsed": 263,
     "status": "ok",
     "timestamp": 1658424576552,
     "user": {
      "displayName": "Anthony Ransom",
      "userId": "12069863966293774441"
     },
     "user_tz": 240
    },
    "id": "IoeS1WbpiWwo",
    "outputId": "7c56ba60-9b9d-49eb-f75a-cc762bc48a28"
   },
   "outputs": [
    {
     "data": {
      "text/plain": [
       "us       10656\n",
       "gb        2384\n",
       "Other     1632\n",
       "gr         940\n",
       "ca         457\n",
       "de         383\n",
       "nz         333\n",
       "in         276\n",
       "au         214\n",
       "ph         132\n",
       "nl         127\n",
       "Name: Country, dtype: int64"
      ]
     },
     "execution_count": 19,
     "metadata": {},
     "output_type": "execute_result"
    }
   ],
   "source": [
    "dataset_df['Country'] = top_n_values(dataset_df['Country'], 10)\n",
    "dataset_df.Country.value_counts()"
   ]
  },
  {
   "cell_type": "code",
   "execution_count": 20,
   "metadata": {
    "colab": {
     "base_uri": "https://localhost:8080/"
    },
    "executionInfo": {
     "elapsed": 150,
     "status": "ok",
     "timestamp": 1658424576698,
     "user": {
      "displayName": "Anthony Ransom",
      "userId": "12069863966293774441"
     },
     "user_tz": 240
    },
    "id": "IsK6oZw6gKzs",
    "outputId": "712ea3fe-3ab6-4ef3-86af-0e4ab2a1f2c1"
   },
   "outputs": [
    {
     "data": {
      "text/plain": [
       "bachelor's degree                    5145\n",
       "high school or equivalent            2080\n",
       "unspecified                          1397\n",
       "master's degree                       416\n",
       "associate degree                      274\n",
       "certification                         170\n",
       "some college coursework completed     102\n",
       "professional                           74\n",
       "vocational                             49\n",
       "some high school coursework            27\n",
       "doctorate                              26\n",
       "vocational - hs diploma                 9\n",
       "vocational - degree                     6\n",
       "Name: required_education, dtype: int64"
      ]
     },
     "execution_count": 20,
     "metadata": {},
     "output_type": "execute_result"
    }
   ],
   "source": [
    "## required_education\n",
    "# combine education values that are not formal education\n",
    "required_education_vals = ['Vocational', 'Vocational - HS Diploma', 'Vocational - Degree', 'Professional', 'Some High School Coursework', 'Some College Coursework Completed']\n",
    "dataset_df.loc[(dataset_df['required_education'].isin(required_education_vals), 'required_education')] = 'other'\n",
    "\n",
    "dataset_df.required_education.value_counts()"
   ]
  },
  {
   "cell_type": "code",
   "execution_count": 21,
   "metadata": {
    "colab": {
     "base_uri": "https://localhost:8080/"
    },
    "executionInfo": {
     "elapsed": 6,
     "status": "ok",
     "timestamp": 1658424576699,
     "user": {
      "displayName": "Anthony Ransom",
      "userId": "12069863966293774441"
     },
     "user_tz": 240
    },
    "id": "tR1BbFI_Ellv",
    "outputId": "1ac51533-731e-4f48-a723-58130694e585"
   },
   "outputs": [
    {
     "data": {
      "text/plain": [
       "full-time    11620\n",
       "contract      1524\n",
       "Other         1265\n",
       "Name: employment_type, dtype: int64"
      ]
     },
     "execution_count": 21,
     "metadata": {},
     "output_type": "execute_result"
    }
   ],
   "source": [
    "##Employment_Type\n",
    "# Determine which values to replace\n",
    "counts = dataset_df.employment_type.value_counts()\n",
    "replace_employment_type = list(counts[counts < 1000].index)\n",
    "\n",
    "# Replace in DataFrame\n",
    "for val in replace_employment_type:\n",
    "    dataset_df.employment_type = dataset_df.employment_type.replace(val,\"Other\")\n",
    "\n",
    "\n",
    "# Check to make sure binning was successful\n",
    "dataset_df.employment_type.value_counts()"
   ]
  },
  {
   "cell_type": "code",
   "execution_count": 22,
   "metadata": {
    "colab": {
     "base_uri": "https://localhost:8080/"
    },
    "executionInfo": {
     "elapsed": 5,
     "status": "ok",
     "timestamp": 1658424576699,
     "user": {
      "displayName": "Anthony Ransom",
      "userId": "12069863966293774441"
     },
     "user_tz": 240
    },
    "id": "RB0bceDRxgum",
    "outputId": "ebaac6cf-6bf5-4c8b-f8c0-4b4eb5c71908"
   },
   "outputs": [
    {
     "data": {
      "text/plain": [
       "department             object\n",
       "company_profile        object\n",
       "description            object\n",
       "requirements           object\n",
       "benefits               object\n",
       "telecommuting           int64\n",
       "has_company_logo        int64\n",
       "has_questions           int64\n",
       "employment_type        object\n",
       "required_experience    object\n",
       "required_education     object\n",
       "industry               object\n",
       "function               object\n",
       "fraudulent              int64\n",
       "Country                object\n",
       "dtype: object"
      ]
     },
     "execution_count": 22,
     "metadata": {},
     "output_type": "execute_result"
    }
   ],
   "source": [
    "dataset_df.dtypes"
   ]
  },
  {
   "cell_type": "markdown",
   "metadata": {
    "id": "u99nOSSMi5Jz"
   },
   "source": [
    "## Step 4: Tockenizing\n",
    "\n",
    "---\n",
    "\n"
   ]
  },
  {
   "cell_type": "markdown",
   "metadata": {
    "id": "y2dmfGiVvhZL"
   },
   "source": [
    "### NLTK "
   ]
  },
  {
   "cell_type": "code",
   "execution_count": 25,
   "metadata": {
    "colab": {
     "base_uri": "https://localhost:8080/"
    },
    "executionInfo": {
     "elapsed": 3714,
     "status": "ok",
     "timestamp": 1658424580496,
     "user": {
      "displayName": "Anthony Ransom",
      "userId": "12069863966293774441"
     },
     "user_tz": 240
    },
    "id": "oAF9wzvsyo40",
    "outputId": "c24a36c0-e83f-4cd8-b222-df45a8dfd075"
   },
   "outputs": [
    {
     "name": "stderr",
     "output_type": "stream",
     "text": [
      "[nltk_data] Downloading package stopwords to\n",
      "[nltk_data]     C:\\Users\\antho\\AppData\\Roaming\\nltk_data...\n",
      "[nltk_data]   Package stopwords is already up-to-date!\n"
     ]
    }
   ],
   "source": [
    "import nltk\n",
    "nltk.download('stopwords')\n",
    "from nltk.corpus import stopwords\n",
    "from nltk.stem.porter import PorterStemmer\n",
    "from sklearn.feature_extraction.text import TfidfVectorizer"
   ]
  },
  {
   "cell_type": "code",
   "execution_count": 26,
   "metadata": {},
   "outputs": [],
   "source": [
    "# create stopwords\n",
    "stop = stopwords.words('english')"
   ]
  },
  {
   "cell_type": "code",
   "execution_count": 27,
   "metadata": {},
   "outputs": [],
   "source": [
    "# for each column remove stopwords\n",
    "for col in clean_cols:\n",
    "  dataset_df[col] = dataset_df[col].apply(lambda x: ' '.join([word for word in x.split() if word not in (stop)]))"
   ]
  },
  {
   "cell_type": "code",
   "execution_count": 28,
   "metadata": {},
   "outputs": [],
   "source": [
    "porter = PorterStemmer()\n",
    "\n",
    "for col in clean_cols:\n",
    "  dataset_df[col] = dataset_df[col].apply(porter.stem)"
   ]
  },
  {
   "cell_type": "code",
   "execution_count": 29,
   "metadata": {},
   "outputs": [],
   "source": [
    "# get_dummies on catageorical columns\n",
    "dummy_col = ['department', 'employment_type', 'required_experience', 'required_education' , 'industry', 'function', 'Country']\n",
    "for col in dummy_col:\n",
    "    # Get one hot encoding of columns\n",
    "    one_hot = pd.get_dummies(dataset_df[col],prefix=col,dtype=np.int64)\n",
    "    # Drop column as it is now encoded\n",
    "    dataset_df = dataset_df.drop(col,axis = 1)\n",
    "    # join the encoded df with dataset_df\n",
    "    dataset_df = dataset_df.join(one_hot)"
   ]
  },
  {
   "cell_type": "code",
   "execution_count": 30,
   "metadata": {},
   "outputs": [
    {
     "data": {
      "text/html": [
       "<div>\n",
       "<style scoped>\n",
       "    .dataframe tbody tr th:only-of-type {\n",
       "        vertical-align: middle;\n",
       "    }\n",
       "\n",
       "    .dataframe tbody tr th {\n",
       "        vertical-align: top;\n",
       "    }\n",
       "\n",
       "    .dataframe thead th {\n",
       "        text-align: right;\n",
       "    }\n",
       "</style>\n",
       "<table border=\"1\" class=\"dataframe\">\n",
       "  <thead>\n",
       "    <tr style=\"text-align: right;\">\n",
       "      <th></th>\n",
       "      <th>company_profile</th>\n",
       "      <th>description</th>\n",
       "      <th>requirements</th>\n",
       "      <th>benefits</th>\n",
       "      <th>telecommuting</th>\n",
       "      <th>has_company_logo</th>\n",
       "      <th>has_questions</th>\n",
       "      <th>fraudulent</th>\n",
       "      <th>department_Other</th>\n",
       "      <th>department_customer service</th>\n",
       "      <th>...</th>\n",
       "      <th>Country_au</th>\n",
       "      <th>Country_ca</th>\n",
       "      <th>Country_de</th>\n",
       "      <th>Country_gb</th>\n",
       "      <th>Country_gr</th>\n",
       "      <th>Country_in</th>\n",
       "      <th>Country_nl</th>\n",
       "      <th>Country_nz</th>\n",
       "      <th>Country_ph</th>\n",
       "      <th>Country_us</th>\n",
       "    </tr>\n",
       "  </thead>\n",
       "  <tbody>\n",
       "    <tr>\n",
       "      <th>0</th>\n",
       "      <td>food52 nd weve creted groundbreking nd wrdwinn...</td>\n",
       "      <td>food52 ftgrowing jme berd wrdwinning online fo...</td>\n",
       "      <td>experience content mngement ytem mjor plu ny b...</td>\n",
       "      <td></td>\n",
       "      <td>0</td>\n",
       "      <td>1</td>\n",
       "      <td>0</td>\n",
       "      <td>0</td>\n",
       "      <td>0</td>\n",
       "      <td>0</td>\n",
       "      <td>...</td>\n",
       "      <td>0</td>\n",
       "      <td>0</td>\n",
       "      <td>0</td>\n",
       "      <td>0</td>\n",
       "      <td>0</td>\n",
       "      <td>0</td>\n",
       "      <td>0</td>\n",
       "      <td>0</td>\n",
       "      <td>0</td>\n",
       "      <td>1</td>\n",
       "    </tr>\n",
       "    <tr>\n",
       "      <th>1</th>\n",
       "      <td>second world cloud video production service se...</td>\n",
       "      <td>orgnied focued vibrnt weomedo hve pion cutomer...</td>\n",
       "      <td>wht expect youyour key reponibility communicte...</td>\n",
       "      <td>wht get uthrough prt second tem ginexperience ...</td>\n",
       "      <td>0</td>\n",
       "      <td>1</td>\n",
       "      <td>0</td>\n",
       "      <td>0</td>\n",
       "      <td>1</td>\n",
       "      <td>0</td>\n",
       "      <td>...</td>\n",
       "      <td>0</td>\n",
       "      <td>0</td>\n",
       "      <td>0</td>\n",
       "      <td>0</td>\n",
       "      <td>0</td>\n",
       "      <td>0</td>\n",
       "      <td>0</td>\n",
       "      <td>1</td>\n",
       "      <td>0</td>\n",
       "      <td>0</td>\n",
       "    </tr>\n",
       "  </tbody>\n",
       "</table>\n",
       "<p>2 rows × 75 columns</p>\n",
       "</div>"
      ],
      "text/plain": [
       "                                     company_profile  \\\n",
       "0  food52 nd weve creted groundbreking nd wrdwinn...   \n",
       "1  second world cloud video production service se...   \n",
       "\n",
       "                                         description  \\\n",
       "0  food52 ftgrowing jme berd wrdwinning online fo...   \n",
       "1  orgnied focued vibrnt weomedo hve pion cutomer...   \n",
       "\n",
       "                                        requirements  \\\n",
       "0  experience content mngement ytem mjor plu ny b...   \n",
       "1  wht expect youyour key reponibility communicte...   \n",
       "\n",
       "                                            benefits  telecommuting  \\\n",
       "0                                                                 0   \n",
       "1  wht get uthrough prt second tem ginexperience ...              0   \n",
       "\n",
       "   has_company_logo  has_questions  fraudulent  department_Other  \\\n",
       "0                 1              0           0                 0   \n",
       "1                 1              0           0                 1   \n",
       "\n",
       "   department_customer service  ...  Country_au  Country_ca  Country_de  \\\n",
       "0                            0  ...           0           0           0   \n",
       "1                            0  ...           0           0           0   \n",
       "\n",
       "   Country_gb  Country_gr  Country_in  Country_nl  Country_nz  Country_ph  \\\n",
       "0           0           0           0           0           0           0   \n",
       "1           0           0           0           0           1           0   \n",
       "\n",
       "   Country_us  \n",
       "0           1  \n",
       "1           0  \n",
       "\n",
       "[2 rows x 75 columns]"
      ]
     },
     "execution_count": 30,
     "metadata": {},
     "output_type": "execute_result"
    }
   ],
   "source": [
    "dataset_df.head(2)"
   ]
  },
  {
   "cell_type": "code",
   "execution_count": 31,
   "metadata": {},
   "outputs": [],
   "source": [
    "# Create list of columns of type int64\n",
    "num_cols = list(dataset_df.select_dtypes(include='int64'))\n",
    "    \n",
    "# Join all columns in clean_cols to have a single colums to vectorize\n",
    "dataset_df['text'] = dataset_df['company_profile'] + dataset_df['description'] + dataset_df['requirements'] + dataset_df['benefits']\n",
    "num_cols.append('text')"
   ]
  },
  {
   "cell_type": "markdown",
   "metadata": {},
   "source": [
    "### View Resulting Output from NLTK"
   ]
  },
  {
   "cell_type": "code",
   "execution_count": 32,
   "metadata": {
    "scrolled": false
   },
   "outputs": [
    {
     "data": {
      "text/html": [
       "<div>\n",
       "<style scoped>\n",
       "    .dataframe tbody tr th:only-of-type {\n",
       "        vertical-align: middle;\n",
       "    }\n",
       "\n",
       "    .dataframe tbody tr th {\n",
       "        vertical-align: top;\n",
       "    }\n",
       "\n",
       "    .dataframe thead th {\n",
       "        text-align: right;\n",
       "    }\n",
       "</style>\n",
       "<table border=\"1\" class=\"dataframe\">\n",
       "  <thead>\n",
       "    <tr style=\"text-align: right;\">\n",
       "      <th></th>\n",
       "      <th>company_profile</th>\n",
       "      <th>description</th>\n",
       "      <th>requirements</th>\n",
       "      <th>benefits</th>\n",
       "      <th>telecommuting</th>\n",
       "      <th>has_company_logo</th>\n",
       "      <th>has_questions</th>\n",
       "      <th>fraudulent</th>\n",
       "      <th>department_Other</th>\n",
       "      <th>department_customer service</th>\n",
       "      <th>...</th>\n",
       "      <th>Country_ca</th>\n",
       "      <th>Country_de</th>\n",
       "      <th>Country_gb</th>\n",
       "      <th>Country_gr</th>\n",
       "      <th>Country_in</th>\n",
       "      <th>Country_nl</th>\n",
       "      <th>Country_nz</th>\n",
       "      <th>Country_ph</th>\n",
       "      <th>Country_us</th>\n",
       "      <th>text</th>\n",
       "    </tr>\n",
       "  </thead>\n",
       "  <tbody>\n",
       "    <tr>\n",
       "      <th>0</th>\n",
       "      <td>food52 nd weve creted groundbreking nd wrdwinn...</td>\n",
       "      <td>food52 ftgrowing jme berd wrdwinning online fo...</td>\n",
       "      <td>experience content mngement ytem mjor plu ny b...</td>\n",
       "      <td></td>\n",
       "      <td>0</td>\n",
       "      <td>1</td>\n",
       "      <td>0</td>\n",
       "      <td>0</td>\n",
       "      <td>0</td>\n",
       "      <td>0</td>\n",
       "      <td>...</td>\n",
       "      <td>0</td>\n",
       "      <td>0</td>\n",
       "      <td>0</td>\n",
       "      <td>0</td>\n",
       "      <td>0</td>\n",
       "      <td>0</td>\n",
       "      <td>0</td>\n",
       "      <td>0</td>\n",
       "      <td>1</td>\n",
       "      <td>food52 nd weve creted groundbreking nd wrdwinn...</td>\n",
       "    </tr>\n",
       "    <tr>\n",
       "      <th>1</th>\n",
       "      <td>second world cloud video production service se...</td>\n",
       "      <td>orgnied focued vibrnt weomedo hve pion cutomer...</td>\n",
       "      <td>wht expect youyour key reponibility communicte...</td>\n",
       "      <td>wht get uthrough prt second tem ginexperience ...</td>\n",
       "      <td>0</td>\n",
       "      <td>1</td>\n",
       "      <td>0</td>\n",
       "      <td>0</td>\n",
       "      <td>1</td>\n",
       "      <td>0</td>\n",
       "      <td>...</td>\n",
       "      <td>0</td>\n",
       "      <td>0</td>\n",
       "      <td>0</td>\n",
       "      <td>0</td>\n",
       "      <td>0</td>\n",
       "      <td>0</td>\n",
       "      <td>1</td>\n",
       "      <td>0</td>\n",
       "      <td>0</td>\n",
       "      <td>second world cloud video production service se...</td>\n",
       "    </tr>\n",
       "  </tbody>\n",
       "</table>\n",
       "<p>2 rows × 76 columns</p>\n",
       "</div>"
      ],
      "text/plain": [
       "                                     company_profile  \\\n",
       "0  food52 nd weve creted groundbreking nd wrdwinn...   \n",
       "1  second world cloud video production service se...   \n",
       "\n",
       "                                         description  \\\n",
       "0  food52 ftgrowing jme berd wrdwinning online fo...   \n",
       "1  orgnied focued vibrnt weomedo hve pion cutomer...   \n",
       "\n",
       "                                        requirements  \\\n",
       "0  experience content mngement ytem mjor plu ny b...   \n",
       "1  wht expect youyour key reponibility communicte...   \n",
       "\n",
       "                                            benefits  telecommuting  \\\n",
       "0                                                                 0   \n",
       "1  wht get uthrough prt second tem ginexperience ...              0   \n",
       "\n",
       "   has_company_logo  has_questions  fraudulent  department_Other  \\\n",
       "0                 1              0           0                 0   \n",
       "1                 1              0           0                 1   \n",
       "\n",
       "   department_customer service  ...  Country_ca  Country_de  Country_gb  \\\n",
       "0                            0  ...           0           0           0   \n",
       "1                            0  ...           0           0           0   \n",
       "\n",
       "   Country_gr  Country_in  Country_nl  Country_nz  Country_ph  Country_us  \\\n",
       "0           0           0           0           0           0           1   \n",
       "1           0           0           0           1           0           0   \n",
       "\n",
       "                                                text  \n",
       "0  food52 nd weve creted groundbreking nd wrdwinn...  \n",
       "1  second world cloud video production service se...  \n",
       "\n",
       "[2 rows x 76 columns]"
      ]
     },
     "execution_count": 32,
     "metadata": {},
     "output_type": "execute_result"
    }
   ],
   "source": [
    "dataset_df.head(2)"
   ]
  },
  {
   "cell_type": "code",
   "execution_count": 33,
   "metadata": {},
   "outputs": [],
   "source": [
    "# Create dataframe with only required columns for vectorization\n",
    "vector_df = dataset_df[num_cols]"
   ]
  },
  {
   "cell_type": "code",
   "execution_count": 34,
   "metadata": {},
   "outputs": [
    {
     "data": {
      "text/html": [
       "<div>\n",
       "<style scoped>\n",
       "    .dataframe tbody tr th:only-of-type {\n",
       "        vertical-align: middle;\n",
       "    }\n",
       "\n",
       "    .dataframe tbody tr th {\n",
       "        vertical-align: top;\n",
       "    }\n",
       "\n",
       "    .dataframe thead th {\n",
       "        text-align: right;\n",
       "    }\n",
       "</style>\n",
       "<table border=\"1\" class=\"dataframe\">\n",
       "  <thead>\n",
       "    <tr style=\"text-align: right;\">\n",
       "      <th></th>\n",
       "      <th>telecommuting</th>\n",
       "      <th>has_company_logo</th>\n",
       "      <th>has_questions</th>\n",
       "      <th>fraudulent</th>\n",
       "      <th>department_Other</th>\n",
       "      <th>department_customer service</th>\n",
       "      <th>department_development</th>\n",
       "      <th>department_engineering</th>\n",
       "      <th>department_information technology</th>\n",
       "      <th>department_it</th>\n",
       "      <th>...</th>\n",
       "      <th>Country_ca</th>\n",
       "      <th>Country_de</th>\n",
       "      <th>Country_gb</th>\n",
       "      <th>Country_gr</th>\n",
       "      <th>Country_in</th>\n",
       "      <th>Country_nl</th>\n",
       "      <th>Country_nz</th>\n",
       "      <th>Country_ph</th>\n",
       "      <th>Country_us</th>\n",
       "      <th>text</th>\n",
       "    </tr>\n",
       "  </thead>\n",
       "  <tbody>\n",
       "    <tr>\n",
       "      <th>0</th>\n",
       "      <td>0</td>\n",
       "      <td>1</td>\n",
       "      <td>0</td>\n",
       "      <td>0</td>\n",
       "      <td>0</td>\n",
       "      <td>0</td>\n",
       "      <td>0</td>\n",
       "      <td>0</td>\n",
       "      <td>0</td>\n",
       "      <td>0</td>\n",
       "      <td>...</td>\n",
       "      <td>0</td>\n",
       "      <td>0</td>\n",
       "      <td>0</td>\n",
       "      <td>0</td>\n",
       "      <td>0</td>\n",
       "      <td>0</td>\n",
       "      <td>0</td>\n",
       "      <td>0</td>\n",
       "      <td>1</td>\n",
       "      <td>food52 nd weve creted groundbreking nd wrdwinn...</td>\n",
       "    </tr>\n",
       "  </tbody>\n",
       "</table>\n",
       "<p>1 rows × 72 columns</p>\n",
       "</div>"
      ],
      "text/plain": [
       "   telecommuting  has_company_logo  has_questions  fraudulent  \\\n",
       "0              0                 1              0           0   \n",
       "\n",
       "   department_Other  department_customer service  department_development  \\\n",
       "0                 0                            0                       0   \n",
       "\n",
       "   department_engineering  department_information technology  department_it  \\\n",
       "0                       0                                  0              0   \n",
       "\n",
       "   ...  Country_ca  Country_de  Country_gb  Country_gr  Country_in  \\\n",
       "0  ...           0           0           0           0           0   \n",
       "\n",
       "   Country_nl  Country_nz  Country_ph  Country_us  \\\n",
       "0           0           0           0           1   \n",
       "\n",
       "                                                text  \n",
       "0  food52 nd weve creted groundbreking nd wrdwinn...  \n",
       "\n",
       "[1 rows x 72 columns]"
      ]
     },
     "execution_count": 34,
     "metadata": {},
     "output_type": "execute_result"
    }
   ],
   "source": [
    "vector_df.head(1)"
   ]
  },
  {
   "cell_type": "code",
   "execution_count": 35,
   "metadata": {},
   "outputs": [],
   "source": [
    "# Create Term freqeuncy Vectorizer\n",
    "tfidf_vect = TfidfVectorizer(use_idf=True,\n",
    "                      smooth_idf=True,\n",
    "                      min_df = 100,\n",
    "                      stop_words = 'english',\n",
    "                      max_features = 10)"
   ]
  },
  {
   "cell_type": "code",
   "execution_count": 36,
   "metadata": {
    "scrolled": true
   },
   "outputs": [],
   "source": [
    "term_freq_idf_df = pd.DataFrame(tfidf_vect.fit_transform(vector_df['text']).toarray(), columns=tfidf_vect.get_feature_names_out())"
   ]
  },
  {
   "cell_type": "code",
   "execution_count": 37,
   "metadata": {
    "scrolled": true
   },
   "outputs": [
    {
     "data": {
      "text/html": [
       "<div>\n",
       "<style scoped>\n",
       "    .dataframe tbody tr th:only-of-type {\n",
       "        vertical-align: middle;\n",
       "    }\n",
       "\n",
       "    .dataframe tbody tr th {\n",
       "        vertical-align: top;\n",
       "    }\n",
       "\n",
       "    .dataframe thead th {\n",
       "        text-align: right;\n",
       "    }\n",
       "</style>\n",
       "<table border=\"1\" class=\"dataframe\">\n",
       "  <thead>\n",
       "    <tr style=\"text-align: right;\">\n",
       "      <th></th>\n",
       "      <th>buine</th>\n",
       "      <th>compny</th>\n",
       "      <th>cutomer</th>\n",
       "      <th>ervice</th>\n",
       "      <th>experience</th>\n",
       "      <th>hve</th>\n",
       "      <th>nd</th>\n",
       "      <th>tem</th>\n",
       "      <th>tht</th>\n",
       "      <th>work</th>\n",
       "    </tr>\n",
       "  </thead>\n",
       "  <tbody>\n",
       "    <tr>\n",
       "      <th>0</th>\n",
       "      <td>0.046685</td>\n",
       "      <td>0.043202</td>\n",
       "      <td>0.000000</td>\n",
       "      <td>0.000000</td>\n",
       "      <td>0.000000</td>\n",
       "      <td>0.075183</td>\n",
       "      <td>0.990156</td>\n",
       "      <td>0.071530</td>\n",
       "      <td>0.00000</td>\n",
       "      <td>0.069114</td>\n",
       "    </tr>\n",
       "    <tr>\n",
       "      <th>1</th>\n",
       "      <td>0.150401</td>\n",
       "      <td>0.000000</td>\n",
       "      <td>0.153133</td>\n",
       "      <td>0.108674</td>\n",
       "      <td>0.156011</td>\n",
       "      <td>0.121106</td>\n",
       "      <td>0.908237</td>\n",
       "      <td>0.172831</td>\n",
       "      <td>0.20341</td>\n",
       "      <td>0.083497</td>\n",
       "    </tr>\n",
       "  </tbody>\n",
       "</table>\n",
       "</div>"
      ],
      "text/plain": [
       "      buine    compny   cutomer    ervice  experience       hve        nd  \\\n",
       "0  0.046685  0.043202  0.000000  0.000000    0.000000  0.075183  0.990156   \n",
       "1  0.150401  0.000000  0.153133  0.108674    0.156011  0.121106  0.908237   \n",
       "\n",
       "        tem      tht      work  \n",
       "0  0.071530  0.00000  0.069114  \n",
       "1  0.172831  0.20341  0.083497  "
      ]
     },
     "execution_count": 37,
     "metadata": {},
     "output_type": "execute_result"
    }
   ],
   "source": [
    "term_freq_idf_df.head(2)"
   ]
  },
  {
   "cell_type": "markdown",
   "metadata": {},
   "source": [
    "### Create DF ready for Machine Learning"
   ]
  },
  {
   "cell_type": "code",
   "execution_count": 38,
   "metadata": {},
   "outputs": [],
   "source": [
    "ml_df = vector_df.merge(term_freq_idf_df, left_index=True, right_index=True, how='inner')"
   ]
  },
  {
   "cell_type": "code",
   "execution_count": 39,
   "metadata": {},
   "outputs": [],
   "source": [
    "ml_df.drop('text',axis=1,inplace=True)"
   ]
  },
  {
   "cell_type": "code",
   "execution_count": 40,
   "metadata": {},
   "outputs": [
    {
     "data": {
      "text/html": [
       "<div>\n",
       "<style scoped>\n",
       "    .dataframe tbody tr th:only-of-type {\n",
       "        vertical-align: middle;\n",
       "    }\n",
       "\n",
       "    .dataframe tbody tr th {\n",
       "        vertical-align: top;\n",
       "    }\n",
       "\n",
       "    .dataframe thead th {\n",
       "        text-align: right;\n",
       "    }\n",
       "</style>\n",
       "<table border=\"1\" class=\"dataframe\">\n",
       "  <thead>\n",
       "    <tr style=\"text-align: right;\">\n",
       "      <th></th>\n",
       "      <th>telecommuting</th>\n",
       "      <th>has_company_logo</th>\n",
       "      <th>has_questions</th>\n",
       "      <th>fraudulent</th>\n",
       "      <th>department_Other</th>\n",
       "      <th>department_customer service</th>\n",
       "      <th>department_development</th>\n",
       "      <th>department_engineering</th>\n",
       "      <th>department_information technology</th>\n",
       "      <th>department_it</th>\n",
       "      <th>...</th>\n",
       "      <th>buine</th>\n",
       "      <th>compny</th>\n",
       "      <th>cutomer</th>\n",
       "      <th>ervice</th>\n",
       "      <th>experience</th>\n",
       "      <th>hve</th>\n",
       "      <th>nd</th>\n",
       "      <th>tem</th>\n",
       "      <th>tht</th>\n",
       "      <th>work</th>\n",
       "    </tr>\n",
       "  </thead>\n",
       "  <tbody>\n",
       "    <tr>\n",
       "      <th>0</th>\n",
       "      <td>0</td>\n",
       "      <td>1</td>\n",
       "      <td>0</td>\n",
       "      <td>0</td>\n",
       "      <td>0</td>\n",
       "      <td>0</td>\n",
       "      <td>0</td>\n",
       "      <td>0</td>\n",
       "      <td>0</td>\n",
       "      <td>0</td>\n",
       "      <td>...</td>\n",
       "      <td>0.046685</td>\n",
       "      <td>0.043202</td>\n",
       "      <td>0.000000</td>\n",
       "      <td>0.000000</td>\n",
       "      <td>0.000000</td>\n",
       "      <td>0.075183</td>\n",
       "      <td>0.990156</td>\n",
       "      <td>0.071530</td>\n",
       "      <td>0.00000</td>\n",
       "      <td>0.069114</td>\n",
       "    </tr>\n",
       "    <tr>\n",
       "      <th>1</th>\n",
       "      <td>0</td>\n",
       "      <td>1</td>\n",
       "      <td>0</td>\n",
       "      <td>0</td>\n",
       "      <td>1</td>\n",
       "      <td>0</td>\n",
       "      <td>0</td>\n",
       "      <td>0</td>\n",
       "      <td>0</td>\n",
       "      <td>0</td>\n",
       "      <td>...</td>\n",
       "      <td>0.150401</td>\n",
       "      <td>0.000000</td>\n",
       "      <td>0.153133</td>\n",
       "      <td>0.108674</td>\n",
       "      <td>0.156011</td>\n",
       "      <td>0.121106</td>\n",
       "      <td>0.908237</td>\n",
       "      <td>0.172831</td>\n",
       "      <td>0.20341</td>\n",
       "      <td>0.083497</td>\n",
       "    </tr>\n",
       "  </tbody>\n",
       "</table>\n",
       "<p>2 rows × 81 columns</p>\n",
       "</div>"
      ],
      "text/plain": [
       "   telecommuting  has_company_logo  has_questions  fraudulent  \\\n",
       "0              0                 1              0           0   \n",
       "1              0                 1              0           0   \n",
       "\n",
       "   department_Other  department_customer service  department_development  \\\n",
       "0                 0                            0                       0   \n",
       "1                 1                            0                       0   \n",
       "\n",
       "   department_engineering  department_information technology  department_it  \\\n",
       "0                       0                                  0              0   \n",
       "1                       0                                  0              0   \n",
       "\n",
       "   ...     buine    compny   cutomer    ervice  experience       hve  \\\n",
       "0  ...  0.046685  0.043202  0.000000  0.000000    0.000000  0.075183   \n",
       "1  ...  0.150401  0.000000  0.153133  0.108674    0.156011  0.121106   \n",
       "\n",
       "         nd       tem      tht      work  \n",
       "0  0.990156  0.071530  0.00000  0.069114  \n",
       "1  0.908237  0.172831  0.20341  0.083497  \n",
       "\n",
       "[2 rows x 81 columns]"
      ]
     },
     "execution_count": 40,
     "metadata": {},
     "output_type": "execute_result"
    }
   ],
   "source": [
    "ml_df.head(2)"
   ]
  },
  {
   "cell_type": "markdown",
   "metadata": {},
   "source": [
    "## Step 5: Machine Learning\n",
    "ml_df is the dataframe ready for machine learning\n",
    "---"
   ]
  }
 ],
 "metadata": {
  "colab": {
   "authorship_tag": "ABX9TyNxnUo0de54EHB56n+6QNyw",
   "collapsed_sections": [
    "5y6WMSyPeIda",
    "uTMO57vfeSnQ",
    "0_kkMfW5fqpx",
    "1l6KO0vVijQF",
    "0aXsfxSeiuAK"
   ],
   "mount_file_id": "18Rt0YPUrQmDYN0fg72F-OGqqbCoWVkNP",
   "name": "Capstone.ipynb",
   "provenance": []
  },
  "kernelspec": {
   "display_name": "mlenv",
   "language": "python",
   "name": "mlenv"
  },
  "language_info": {
   "codemirror_mode": {
    "name": "ipython",
    "version": 3
   },
   "file_extension": ".py",
   "mimetype": "text/x-python",
   "name": "python",
   "nbconvert_exporter": "python",
   "pygments_lexer": "ipython3",
   "version": "3.7.13"
  }
 },
 "nbformat": 4,
 "nbformat_minor": 1
}
